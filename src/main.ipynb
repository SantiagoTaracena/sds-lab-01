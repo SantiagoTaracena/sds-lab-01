{
 "cells": [
  {
   "cell_type": "markdown",
   "metadata": {},
   "source": [
    "# Universidad del Valle de Guatemala\n",
    "# (CC3094) Security Data Science\n",
    "# Laboratorio 1 - Detección de Phishing\n",
    "\n",
    "Miembros del equipo de trabajo:\n",
    "- Yongbum Park (20117)\n",
    "- Santiago Taracena Puga (20017)"
   ]
  },
  {
   "cell_type": "markdown",
   "metadata": {},
   "source": [
    "## Introducción\n",
    "\n",
    "En el ámbito actual de la ciberseguridad, la detección y prevención de ataques de phishing se han convertido en prioridades esenciales para salvaguardar la integridad de la información y la privacidad de los usuarios en línea. El phishing, basado en la astuta manipulación psicológica de las víctimas, se ha erigido como una de las tácticas más eficaces utilizadas por ciberdelincuentes para obtener información confidencial, como credenciales de acceso a cuentas bancarias, datos personales y contraseñas.\n",
    "\n",
    "El presente informe aborda la implementación de un modelo de Machine Learning (ML) destinado a clasificar URLs como legítimas o phishing, fundamentándose en el análisis de características intrínsecas de las direcciones web. Este enfoque busca contrarrestar los sofisticados métodos empleados por los atacantes, quienes, a través de ingeniería social, logran crear réplicas convincentes de sitios web legítimos para engañar a los usuarios.\n",
    "\n",
    "El laboratorio se estructura en dos partes esenciales: la primera se centra en la ingeniería de características, exploración de datos, derivación de características y preprocesamiento, mientras que la segunda se enfoca en la implementación de modelos de ML y la evaluación de su desempeño. Todo el proceso se desarrollará en el lenguaje de programación Python, aprovechando herramientas y librerías especializadas.\n",
    "\n",
    "La detección de phishing no solo constituye un desafío técnico, sino también un imperativo para mitigar riesgos financieros y salvaguardar la confidencialidad de la información sensible. Este laboratorio proporcionará una perspectiva práctica sobre cómo abordar esta problemática mediante la aplicación de técnicas de ML, ofreciendo a los participantes una valiosa experiencia en la intersección de la seguridad informática y la ciencia de datos."
   ]
  },
  {
   "cell_type": "markdown",
   "metadata": {},
   "source": [
    "## Parte 1 - Ingeniería de Características\n",
    "\n",
    "En la primera fase de este laboratorio, nos enfocaremos en la Ingeniería de Características, un paso crucial para dotar al modelo de Machine Learning de la capacidad de discernir entre URLs legítimas y potenciales intentos de phishing. Comenzaremos por cargar el conjunto de datos proporcionado en un dataframe de pandas, permitiendo una visualización inicial de cinco observaciones para comprender la estructura del mismo. A continuación, evaluaremos la distribución de las etiquetas en la columna \"status\", identificando la proporción de URLs etiquetadas como \"legit\" y \"phishing\", con el objetivo de determinar si el conjunto de datos presenta un equilibrio adecuado.\n",
    "\n",
    "Posteriormente, nos sumergiremos en la Derivación de Características, donde exploraremos las ventajas del análisis de una URL en comparación con otros datos, como el tiempo de vida del dominio o las características de la página web. Inspirándonos en artículos especializados en la clasificación de phishing, identificaremos al menos quince funciones basadas en estas investigaciones para enriquecer nuestro conjunto de datos con características relevantes. El proceso de preprocesamiento será esencial para convertir la variable categórica \"status\" en una variable binaria, eliminar la columna del dominio y realizar ajustes necesarios para garantizar la coherencia y eficacia del análisis. Finalmente, emplearemos la herramienta pandas_profiling para generar un reporte de perfil que nos proporcionará insights cruciales sobre las características del conjunto de datos y nos guiará en la selección de las características más significativas para la detección de phishing."
   ]
  },
  {
   "cell_type": "markdown",
   "metadata": {},
   "source": [
    "### Exploración de datos\n",
    "\n",
    "Lo primero que debemos realizar, como en todo procedimiento de Ingeniería de Características y procedimientos relacionados a Ingeniería de Datos antes de comenzar con el entrenamiento de un nuevo modelo de aprendizaje de máquina, es familiarizarnos con los datos que nos han sido proporcionados. Antes de cualquier otra cosa, necesitamos hacer uso de la librería de pandas para poder leer el dataset que nos ha sido proporcionado."
   ]
  },
  {
   "cell_type": "code",
   "execution_count": 1,
   "metadata": {},
   "outputs": [],
   "source": [
    "# Instrucción para importar la librería pandas.\n",
    "import pandas as pd"
   ]
  },
  {
   "cell_type": "markdown",
   "metadata": {},
   "source": [
    "Con pandas a nuestra disposición, podemos proceder a leer el dataset que tenemos qué utilizar para el laboratorio. Esto lo podemos realizar utilizando la función `read_csv`, que nos permite leer un archivo con extensión .csv y convertirlo a un DataFrame de pandas, mucho más fácil de manipular."
   ]
  },
  {
   "cell_type": "code",
   "execution_count": 2,
   "metadata": {},
   "outputs": [],
   "source": [
    "# Proceso para leer el dataset y colocarlo en un DataFrame.\n",
    "dataset = pd.read_csv(\"./data/dataset_phishing.csv\")"
   ]
  },
  {
   "cell_type": "markdown",
   "metadata": {},
   "source": [
    "Algo que se solicita en las instrucciones del laboratorio es poder realizar una observación rápida de un ejemplo de cinco entradas del dataset. Esto lo podemos realizar utilizando la función `head`, que nos retorna las primeras cinco entradas de un DataFrame de pandas."
   ]
  },
  {
   "cell_type": "code",
   "execution_count": 3,
   "metadata": {},
   "outputs": [
    {
     "data": {
      "text/html": [
       "<div>\n",
       "<style scoped>\n",
       "    .dataframe tbody tr th:only-of-type {\n",
       "        vertical-align: middle;\n",
       "    }\n",
       "\n",
       "    .dataframe tbody tr th {\n",
       "        vertical-align: top;\n",
       "    }\n",
       "\n",
       "    .dataframe thead th {\n",
       "        text-align: right;\n",
       "    }\n",
       "</style>\n",
       "<table border=\"1\" class=\"dataframe\">\n",
       "  <thead>\n",
       "    <tr style=\"text-align: right;\">\n",
       "      <th></th>\n",
       "      <th>url</th>\n",
       "      <th>status</th>\n",
       "    </tr>\n",
       "  </thead>\n",
       "  <tbody>\n",
       "    <tr>\n",
       "      <th>0</th>\n",
       "      <td>http://www.crestonwood.com/router.php</td>\n",
       "      <td>legitimate</td>\n",
       "    </tr>\n",
       "    <tr>\n",
       "      <th>1</th>\n",
       "      <td>http://shadetreetechnology.com/V4/validation/a...</td>\n",
       "      <td>phishing</td>\n",
       "    </tr>\n",
       "    <tr>\n",
       "      <th>2</th>\n",
       "      <td>https://support-appleld.com.secureupdate.duila...</td>\n",
       "      <td>phishing</td>\n",
       "    </tr>\n",
       "    <tr>\n",
       "      <th>3</th>\n",
       "      <td>http://rgipt.ac.in</td>\n",
       "      <td>legitimate</td>\n",
       "    </tr>\n",
       "    <tr>\n",
       "      <th>4</th>\n",
       "      <td>http://www.iracing.com/tracks/gateway-motorspo...</td>\n",
       "      <td>legitimate</td>\n",
       "    </tr>\n",
       "  </tbody>\n",
       "</table>\n",
       "</div>"
      ],
      "text/plain": [
       "                                                 url      status\n",
       "0              http://www.crestonwood.com/router.php  legitimate\n",
       "1  http://shadetreetechnology.com/V4/validation/a...    phishing\n",
       "2  https://support-appleld.com.secureupdate.duila...    phishing\n",
       "3                                 http://rgipt.ac.in  legitimate\n",
       "4  http://www.iracing.com/tracks/gateway-motorspo...  legitimate"
      ]
     },
     "execution_count": 3,
     "metadata": {},
     "output_type": "execute_result"
    }
   ],
   "source": [
    "# Primeras cinco filas del dataset.\n",
    "dataset.head()"
   ]
  },
  {
   "cell_type": "markdown",
   "metadata": {},
   "source": [
    "Posteriormente necesitamos verificar si el dataset se encuentra balanceado, ya que esta característica es particularmente útil al momento de entrenar un modelo que sea capaz de clasificar entre dos, valga la redundancia, clases diferentes. Esto lo podemos observar, en primer lugar, averiguando cuántas filas tiene nuestro dataset. Esto se puede realizar observando la propiedad `shape` presente en todos los DataFrames de pandas."
   ]
  },
  {
   "cell_type": "code",
   "execution_count": 4,
   "metadata": {},
   "outputs": [
    {
     "data": {
      "text/plain": [
       "(11430, 2)"
      ]
     },
     "execution_count": 4,
     "metadata": {},
     "output_type": "execute_result"
    }
   ],
   "source": [
    "# Tupla con las filas y columnas del dataset.\n",
    "dataset.shape"
   ]
  },
  {
   "cell_type": "markdown",
   "metadata": {},
   "source": [
    "Sabiendo que contamos con 11,430 filas en el dataset, podemos observar cuántas de estas filas corresponden a entradas legítimas o entradas de phishing. A continuación se realiza el query para observar cuántas filas hay de cada una de las clases."
   ]
  },
  {
   "cell_type": "code",
   "execution_count": 5,
   "metadata": {},
   "outputs": [
    {
     "data": {
      "text/plain": [
       "5715"
      ]
     },
     "execution_count": 5,
     "metadata": {},
     "output_type": "execute_result"
    }
   ],
   "source": [
    "# Cantidad de entradas legítimas del dataset.\n",
    "dataset[dataset[\"status\"] == \"legitimate\"].shape[0]"
   ]
  },
  {
   "cell_type": "code",
   "execution_count": 6,
   "metadata": {},
   "outputs": [
    {
     "data": {
      "text/plain": [
       "5715"
      ]
     },
     "execution_count": 6,
     "metadata": {},
     "output_type": "execute_result"
    }
   ],
   "source": [
    "# Cantidad de entradas de phishing del dataset.\n",
    "dataset[dataset[\"status\"] == \"phishing\"].shape[0]"
   ]
  },
  {
   "cell_type": "markdown",
   "metadata": {},
   "source": [
    "Podemos notar cómo el dataset se encuentra perfectamente balanceado, ya que tenemos 5,715 entradas de cada clase para hacer de cada una el 50% del dataset. Al tener esta característica, nos evitamos la gran mayoría de procedimientos manuales para balancear el dataset antes de entrenar al modelo."
   ]
  },
  {
   "cell_type": "markdown",
   "metadata": {},
   "source": [
    "### Derivación de características"
   ]
  },
  {
   "cell_type": "markdown",
   "metadata": {},
   "source": [
    "#### Largo de la URL"
   ]
  },
  {
   "cell_type": "markdown",
   "metadata": {},
   "source": [
    "Para comenzar, vale mucho la pena dejar seteado un dominio para realizar las diferentes pruebas a cada una de las funciones que se van a utilizar para obtener las propiedades codificadas."
   ]
  },
  {
   "cell_type": "code",
   "execution_count": 7,
   "metadata": {},
   "outputs": [],
   "source": [
    "# Dominio a usar para tests.\n",
    "TEST_DOMAIN = \"http://www.crestonwood.com/router.php\""
   ]
  },
  {
   "cell_type": "markdown",
   "metadata": {},
   "source": [
    "La primera de las características a utilizar, la cual es considerada la más importante al momento de clasificar estas URLs, es la longitud de la URL que se va a visitar."
   ]
  },
  {
   "cell_type": "code",
   "execution_count": 8,
   "metadata": {},
   "outputs": [
    {
     "data": {
      "text/plain": [
       "37"
      ]
     },
     "execution_count": 8,
     "metadata": {},
     "output_type": "execute_result"
    }
   ],
   "source": [
    "# Largo de la URL.\n",
    "from utils.get_url_lenght import get_url_length\n",
    "\n",
    "# Resultado del largo de la URL.\n",
    "get_url_length(TEST_DOMAIN)"
   ]
  },
  {
   "cell_type": "markdown",
   "metadata": {},
   "source": [
    "#### Largo del pathname"
   ]
  },
  {
   "cell_type": "markdown",
   "metadata": {},
   "source": [
    "Otra característica muy importante a utilizar es el pathname, que también permite detectar anormalidades en la URL dada."
   ]
  },
  {
   "cell_type": "code",
   "execution_count": 9,
   "metadata": {},
   "outputs": [
    {
     "data": {
      "text/plain": [
       "11"
      ]
     },
     "execution_count": 9,
     "metadata": {},
     "output_type": "execute_result"
    }
   ],
   "source": [
    "# Largo del pathname.\n",
    "from utils.get_pathname_lenght import get_pathname_lenght\n",
    "\n",
    "# Resultado del largo del pathname.\n",
    "get_pathname_lenght(TEST_DOMAIN)"
   ]
  },
  {
   "cell_type": "markdown",
   "metadata": {},
   "source": [
    "#### Largo del domain"
   ]
  },
  {
   "cell_type": "markdown",
   "metadata": {},
   "source": [
    "Otra característica importante es el largo del dominio en cuestión."
   ]
  },
  {
   "cell_type": "code",
   "execution_count": 10,
   "metadata": {},
   "outputs": [
    {
     "data": {
      "text/plain": [
       "19"
      ]
     },
     "execution_count": 10,
     "metadata": {},
     "output_type": "execute_result"
    }
   ],
   "source": [
    "# Largo del domain.\n",
    "from utils.get_domain_lenght import get_domain_lenght\n",
    "\n",
    "# Resultado del largo del domain.\n",
    "get_domain_lenght(TEST_DOMAIN)"
   ]
  },
  {
   "cell_type": "markdown",
   "metadata": {},
   "source": [
    "#### Largo del filename"
   ]
  },
  {
   "cell_type": "markdown",
   "metadata": {},
   "source": [
    "Finalmente, otra característica relacionada a la longitud del archivo que se encuentra siendo cargado."
   ]
  },
  {
   "cell_type": "code",
   "execution_count": 11,
   "metadata": {},
   "outputs": [
    {
     "data": {
      "text/plain": [
       "10"
      ]
     },
     "execution_count": 11,
     "metadata": {},
     "output_type": "execute_result"
    }
   ],
   "source": [
    "# Largo del filename.\n",
    "from utils.get_filename_lenght import get_filename_lenght\n",
    "\n",
    "# Resultado del largo del filename.\n",
    "get_filename_lenght(TEST_DOMAIN)"
   ]
  },
  {
   "cell_type": "markdown",
   "metadata": {},
   "source": [
    "#### Número de vocales en el domain"
   ]
  },
  {
   "cell_type": "markdown",
   "metadata": {},
   "source": [
    "Otra característica que se tomó en cuenta es la cantidad de vocales del dominio."
   ]
  },
  {
   "cell_type": "code",
   "execution_count": 12,
   "metadata": {},
   "outputs": [
    {
     "data": {
      "text/plain": [
       "5"
      ]
     },
     "execution_count": 12,
     "metadata": {},
     "output_type": "execute_result"
    }
   ],
   "source": [
    "# Número de vocales en el domain.\n",
    "from utils.get_vocals import get_vocals\n",
    "\n",
    "# Resultado del número de vocales en el domain.\n",
    "get_vocals(TEST_DOMAIN)"
   ]
  },
  {
   "cell_type": "markdown",
   "metadata": {},
   "source": [
    "#### Número de puntos en el domain"
   ]
  },
  {
   "cell_type": "markdown",
   "metadata": {},
   "source": [
    "También se tomó en cuenta el número de puntos que se encuentran en el dominio."
   ]
  },
  {
   "cell_type": "code",
   "execution_count": 13,
   "metadata": {},
   "outputs": [
    {
     "data": {
      "text/plain": [
       "2"
      ]
     },
     "execution_count": 13,
     "metadata": {},
     "output_type": "execute_result"
    }
   ],
   "source": [
    "# Número de puntos en el domain.\n",
    "from utils.get_domain_points import get_domain_points\n",
    "\n",
    "# Resultado del número de puntos en el domain.\n",
    "get_domain_points(TEST_DOMAIN)"
   ]
  },
  {
   "cell_type": "markdown",
   "metadata": {},
   "source": [
    "#### Número de slash en la URL"
   ]
  },
  {
   "cell_type": "markdown",
   "metadata": {},
   "source": [
    "Al igual que la cantidad de puntos, el equipo de trabajo también consideró útil tener en cuenta en número de slashes presentes en el dominio."
   ]
  },
  {
   "cell_type": "code",
   "execution_count": 14,
   "metadata": {},
   "outputs": [
    {
     "data": {
      "text/plain": [
       "3"
      ]
     },
     "execution_count": 14,
     "metadata": {},
     "output_type": "execute_result"
    }
   ],
   "source": [
    "# Número de slash en el domain.\n",
    "from utils.get_slashes import get_slashes\n",
    "\n",
    "# Resultado del número de slash en el domain.\n",
    "get_slashes(TEST_DOMAIN)"
   ]
  },
  {
   "cell_type": "markdown",
   "metadata": {},
   "source": [
    "#### Número de puntos en la URL"
   ]
  },
  {
   "cell_type": "markdown",
   "metadata": {},
   "source": [
    "Como la importancia de los puntos en el dominio es alta, también se tomó en cuenta la importancia de los puntos ubicados en la URL."
   ]
  },
  {
   "cell_type": "code",
   "execution_count": 15,
   "metadata": {},
   "outputs": [
    {
     "data": {
      "text/plain": [
       "3"
      ]
     },
     "execution_count": 15,
     "metadata": {},
     "output_type": "execute_result"
    }
   ],
   "source": [
    "# Número de puntos en la URL.\n",
    "from utils.get_url_points import get_url_points\n",
    "\n",
    "# Resultado del número de puntos en la URL.\n",
    "get_url_points(TEST_DOMAIN)"
   ]
  },
  {
   "cell_type": "markdown",
   "metadata": {},
   "source": [
    "#### Número de dashes en la URL"
   ]
  },
  {
   "cell_type": "markdown",
   "metadata": {},
   "source": [
    "Los dashes o guiones también son elementos muy importantes que se suelen encontrar en las URLs, por lo que también es una característica que se tomó en cuenta."
   ]
  },
  {
   "cell_type": "code",
   "execution_count": 16,
   "metadata": {},
   "outputs": [
    {
     "data": {
      "text/plain": [
       "0"
      ]
     },
     "execution_count": 16,
     "metadata": {},
     "output_type": "execute_result"
    }
   ],
   "source": [
    "# Número de dashes en la URL.\n",
    "from utils.get_dashes import get_dashes\n",
    "\n",
    "# Resultado del número de dashes en la URL.\n",
    "get_dashes(TEST_DOMAIN)"
   ]
  },
  {
   "cell_type": "markdown",
   "metadata": {},
   "source": [
    "#### Entropía de la URL"
   ]
  },
  {
   "cell_type": "markdown",
   "metadata": {},
   "source": [
    "Consideramos sumamente interesante obtener la entropía de la URL para poder determinar si es una característica útil para clasificar si la misma URL es phishing o no."
   ]
  },
  {
   "cell_type": "code",
   "execution_count": 17,
   "metadata": {},
   "outputs": [
    {
     "data": {
      "text/plain": [
       "3.2198013514664865"
      ]
     },
     "execution_count": 17,
     "metadata": {},
     "output_type": "execute_result"
    }
   ],
   "source": [
    "# Entropía de la URL.\n",
    "from utils.get_url_entropy import get_url_entropy\n",
    "\n",
    "# Resultado de la entropía de la URL.\n",
    "get_url_entropy(TEST_DOMAIN)"
   ]
  },
  {
   "cell_type": "markdown",
   "metadata": {},
   "source": [
    "#### Entropía del dominio"
   ]
  },
  {
   "cell_type": "markdown",
   "metadata": {},
   "source": [
    "Igual que con la URL, también consideramos útil observar la entropía del dominio que se encuentra analizando."
   ]
  },
  {
   "cell_type": "code",
   "execution_count": 18,
   "metadata": {},
   "outputs": [
    {
     "data": {
      "text/plain": [
       "3.670932217624758"
      ]
     },
     "execution_count": 18,
     "metadata": {},
     "output_type": "execute_result"
    }
   ],
   "source": [
    "# Entropía del dominio.\n",
    "from utils.get_domain_entropy import get_domain_entropy\n",
    "\n",
    "# Resultado de la entropía del dominio.\n",
    "get_domain_entropy(TEST_DOMAIN)"
   ]
  },
  {
   "cell_type": "markdown",
   "metadata": {},
   "source": [
    "#### Número de puntos y comas de la URL"
   ]
  },
  {
   "cell_type": "markdown",
   "metadata": {},
   "source": [
    "Otro caracter que consideramos importante es la cantidad de puntos y comas que se encuentran en el dominio."
   ]
  },
  {
   "cell_type": "code",
   "execution_count": 19,
   "metadata": {},
   "outputs": [
    {
     "data": {
      "text/plain": [
       "0"
      ]
     },
     "execution_count": 19,
     "metadata": {},
     "output_type": "execute_result"
    }
   ],
   "source": [
    "# Número de puntos y comas de la URL.\n",
    "from utils.get_url_semicolons import get_url_semicolons\n",
    "\n",
    "# Resultado del número de puntos y comas de la URL.\n",
    "get_url_semicolons(TEST_DOMAIN)"
   ]
  },
  {
   "cell_type": "markdown",
   "metadata": {},
   "source": [
    "#### Número de porcentajes de la URL"
   ]
  },
  {
   "cell_type": "markdown",
   "metadata": {},
   "source": [
    "También consideramos importante la cantidad de porcentajes que se encuentren en la URL, especialmente para tener en cuenta temas de variables."
   ]
  },
  {
   "cell_type": "code",
   "execution_count": 20,
   "metadata": {},
   "outputs": [
    {
     "data": {
      "text/plain": [
       "0"
      ]
     },
     "execution_count": 20,
     "metadata": {},
     "output_type": "execute_result"
    }
   ],
   "source": [
    "# Número de porcentajes de la URL.\n",
    "from utils.get_url_percentages import get_url_percentages\n",
    "\n",
    "# Resultado del número de porcentajes de la URL.\n",
    "get_url_percentages(TEST_DOMAIN)"
   ]
  },
  {
   "cell_type": "markdown",
   "metadata": {},
   "source": [
    "#### Número de hashtags de la URL"
   ]
  },
  {
   "cell_type": "markdown",
   "metadata": {},
   "source": [
    "La cantidad de hashtags o numerales en la URL es otra variable importante debido a cómo esta puede indicar elementos de HTML que se hagan referencia en la URL original."
   ]
  },
  {
   "cell_type": "code",
   "execution_count": 21,
   "metadata": {},
   "outputs": [
    {
     "data": {
      "text/plain": [
       "0"
      ]
     },
     "execution_count": 21,
     "metadata": {},
     "output_type": "execute_result"
    }
   ],
   "source": [
    "# Número de hashtags de la URL.\n",
    "from utils.get_url_hashtags import get_url_hashtags\n",
    "\n",
    "# Resultado del número de hashtags de la URL.\n",
    "get_url_hashtags(TEST_DOMAIN)"
   ]
  },
  {
   "cell_type": "markdown",
   "metadata": {},
   "source": [
    "#### Número de guiones bajos de la URL"
   ]
  },
  {
   "cell_type": "markdown",
   "metadata": {},
   "source": [
    "Finalmente, consideramos que los guiones bajos presentes en la URL también son importantes para su clasificación."
   ]
  },
  {
   "cell_type": "code",
   "execution_count": 22,
   "metadata": {},
   "outputs": [
    {
     "data": {
      "text/plain": [
       "0"
      ]
     },
     "execution_count": 22,
     "metadata": {},
     "output_type": "execute_result"
    }
   ],
   "source": [
    "# Número de guiones bajos de la URL.\n",
    "from utils.get_url_hyphens import get_url_hyphens\n",
    "\n",
    "# Resultado del número de guiones bajos de la URL.\n",
    "get_url_hyphens(TEST_DOMAIN)"
   ]
  },
  {
   "cell_type": "markdown",
   "metadata": {},
   "source": [
    "Con estas características implementadas nos encontramos listos para poder comenzar con el procedimiento de crear nuevas columnas en el dataset que nos permitan clasificar de mejor manera si una URL es phishing o no lo es."
   ]
  },
  {
   "cell_type": "markdown",
   "metadata": {},
   "source": [
    "### Preprocesamineto de datos"
   ]
  },
  {
   "cell_type": "markdown",
   "metadata": {},
   "source": [
    "En la presente sección se procesarán los datos y se dejará listo el dataset para que el mismo pueda ser utilizado para entrenar un modelo de machine learning que sea capaz de clasificar las URLs como se ha ido describiendo anteriormente. Lo primero que vale la pena es recordar la forma en la que se encuentra nuestro dataset antes de ser preprocesado y arreglado para que se encuentre listo para ser usado."
   ]
  },
  {
   "cell_type": "code",
   "execution_count": 23,
   "metadata": {},
   "outputs": [
    {
     "data": {
      "text/html": [
       "<div>\n",
       "<style scoped>\n",
       "    .dataframe tbody tr th:only-of-type {\n",
       "        vertical-align: middle;\n",
       "    }\n",
       "\n",
       "    .dataframe tbody tr th {\n",
       "        vertical-align: top;\n",
       "    }\n",
       "\n",
       "    .dataframe thead th {\n",
       "        text-align: right;\n",
       "    }\n",
       "</style>\n",
       "<table border=\"1\" class=\"dataframe\">\n",
       "  <thead>\n",
       "    <tr style=\"text-align: right;\">\n",
       "      <th></th>\n",
       "      <th>url</th>\n",
       "      <th>status</th>\n",
       "    </tr>\n",
       "  </thead>\n",
       "  <tbody>\n",
       "    <tr>\n",
       "      <th>0</th>\n",
       "      <td>http://www.crestonwood.com/router.php</td>\n",
       "      <td>legitimate</td>\n",
       "    </tr>\n",
       "    <tr>\n",
       "      <th>1</th>\n",
       "      <td>http://shadetreetechnology.com/V4/validation/a...</td>\n",
       "      <td>phishing</td>\n",
       "    </tr>\n",
       "    <tr>\n",
       "      <th>2</th>\n",
       "      <td>https://support-appleld.com.secureupdate.duila...</td>\n",
       "      <td>phishing</td>\n",
       "    </tr>\n",
       "    <tr>\n",
       "      <th>3</th>\n",
       "      <td>http://rgipt.ac.in</td>\n",
       "      <td>legitimate</td>\n",
       "    </tr>\n",
       "    <tr>\n",
       "      <th>4</th>\n",
       "      <td>http://www.iracing.com/tracks/gateway-motorspo...</td>\n",
       "      <td>legitimate</td>\n",
       "    </tr>\n",
       "    <tr>\n",
       "      <th>...</th>\n",
       "      <td>...</td>\n",
       "      <td>...</td>\n",
       "    </tr>\n",
       "    <tr>\n",
       "      <th>11425</th>\n",
       "      <td>http://www.fontspace.com/category/blackletter</td>\n",
       "      <td>legitimate</td>\n",
       "    </tr>\n",
       "    <tr>\n",
       "      <th>11426</th>\n",
       "      <td>http://www.budgetbots.com/server.php/Server%20...</td>\n",
       "      <td>phishing</td>\n",
       "    </tr>\n",
       "    <tr>\n",
       "      <th>11427</th>\n",
       "      <td>https://www.facebook.com/Interactive-Televisio...</td>\n",
       "      <td>legitimate</td>\n",
       "    </tr>\n",
       "    <tr>\n",
       "      <th>11428</th>\n",
       "      <td>http://www.mypublicdomainpictures.com/</td>\n",
       "      <td>legitimate</td>\n",
       "    </tr>\n",
       "    <tr>\n",
       "      <th>11429</th>\n",
       "      <td>http://174.139.46.123/ap/signin?openid.pape.ma...</td>\n",
       "      <td>phishing</td>\n",
       "    </tr>\n",
       "  </tbody>\n",
       "</table>\n",
       "<p>11430 rows × 2 columns</p>\n",
       "</div>"
      ],
      "text/plain": [
       "                                                     url      status\n",
       "0                  http://www.crestonwood.com/router.php  legitimate\n",
       "1      http://shadetreetechnology.com/V4/validation/a...    phishing\n",
       "2      https://support-appleld.com.secureupdate.duila...    phishing\n",
       "3                                     http://rgipt.ac.in  legitimate\n",
       "4      http://www.iracing.com/tracks/gateway-motorspo...  legitimate\n",
       "...                                                  ...         ...\n",
       "11425      http://www.fontspace.com/category/blackletter  legitimate\n",
       "11426  http://www.budgetbots.com/server.php/Server%20...    phishing\n",
       "11427  https://www.facebook.com/Interactive-Televisio...  legitimate\n",
       "11428             http://www.mypublicdomainpictures.com/  legitimate\n",
       "11429  http://174.139.46.123/ap/signin?openid.pape.ma...    phishing\n",
       "\n",
       "[11430 rows x 2 columns]"
      ]
     },
     "execution_count": 23,
     "metadata": {},
     "output_type": "execute_result"
    }
   ],
   "source": [
    "# Instrucción para retornar el dataset.\n",
    "dataset"
   ]
  },
  {
   "cell_type": "markdown",
   "metadata": {},
   "source": [
    "Lo primero que necesitamos realizar es convertir la columna \"status\" en numérica, es decir, pasar el valor \"legitimate\" a 0 y el valor \"phishing\" a 1, para que sea más fácil de utilizar por parte de un modelo de machine learning. Recordemos que estos modelos son infinítamente mejores trabajando con números que con letras."
   ]
  },
  {
   "cell_type": "code",
   "execution_count": 24,
   "metadata": {},
   "outputs": [
    {
     "data": {
      "text/html": [
       "<div>\n",
       "<style scoped>\n",
       "    .dataframe tbody tr th:only-of-type {\n",
       "        vertical-align: middle;\n",
       "    }\n",
       "\n",
       "    .dataframe tbody tr th {\n",
       "        vertical-align: top;\n",
       "    }\n",
       "\n",
       "    .dataframe thead th {\n",
       "        text-align: right;\n",
       "    }\n",
       "</style>\n",
       "<table border=\"1\" class=\"dataframe\">\n",
       "  <thead>\n",
       "    <tr style=\"text-align: right;\">\n",
       "      <th></th>\n",
       "      <th>url</th>\n",
       "      <th>status</th>\n",
       "    </tr>\n",
       "  </thead>\n",
       "  <tbody>\n",
       "    <tr>\n",
       "      <th>0</th>\n",
       "      <td>http://www.crestonwood.com/router.php</td>\n",
       "      <td>0</td>\n",
       "    </tr>\n",
       "    <tr>\n",
       "      <th>1</th>\n",
       "      <td>http://shadetreetechnology.com/V4/validation/a...</td>\n",
       "      <td>1</td>\n",
       "    </tr>\n",
       "    <tr>\n",
       "      <th>2</th>\n",
       "      <td>https://support-appleld.com.secureupdate.duila...</td>\n",
       "      <td>1</td>\n",
       "    </tr>\n",
       "    <tr>\n",
       "      <th>3</th>\n",
       "      <td>http://rgipt.ac.in</td>\n",
       "      <td>0</td>\n",
       "    </tr>\n",
       "    <tr>\n",
       "      <th>4</th>\n",
       "      <td>http://www.iracing.com/tracks/gateway-motorspo...</td>\n",
       "      <td>0</td>\n",
       "    </tr>\n",
       "    <tr>\n",
       "      <th>...</th>\n",
       "      <td>...</td>\n",
       "      <td>...</td>\n",
       "    </tr>\n",
       "    <tr>\n",
       "      <th>11425</th>\n",
       "      <td>http://www.fontspace.com/category/blackletter</td>\n",
       "      <td>0</td>\n",
       "    </tr>\n",
       "    <tr>\n",
       "      <th>11426</th>\n",
       "      <td>http://www.budgetbots.com/server.php/Server%20...</td>\n",
       "      <td>1</td>\n",
       "    </tr>\n",
       "    <tr>\n",
       "      <th>11427</th>\n",
       "      <td>https://www.facebook.com/Interactive-Televisio...</td>\n",
       "      <td>0</td>\n",
       "    </tr>\n",
       "    <tr>\n",
       "      <th>11428</th>\n",
       "      <td>http://www.mypublicdomainpictures.com/</td>\n",
       "      <td>0</td>\n",
       "    </tr>\n",
       "    <tr>\n",
       "      <th>11429</th>\n",
       "      <td>http://174.139.46.123/ap/signin?openid.pape.ma...</td>\n",
       "      <td>1</td>\n",
       "    </tr>\n",
       "  </tbody>\n",
       "</table>\n",
       "<p>11430 rows × 2 columns</p>\n",
       "</div>"
      ],
      "text/plain": [
       "                                                     url  status\n",
       "0                  http://www.crestonwood.com/router.php       0\n",
       "1      http://shadetreetechnology.com/V4/validation/a...       1\n",
       "2      https://support-appleld.com.secureupdate.duila...       1\n",
       "3                                     http://rgipt.ac.in       0\n",
       "4      http://www.iracing.com/tracks/gateway-motorspo...       0\n",
       "...                                                  ...     ...\n",
       "11425      http://www.fontspace.com/category/blackletter       0\n",
       "11426  http://www.budgetbots.com/server.php/Server%20...       1\n",
       "11427  https://www.facebook.com/Interactive-Televisio...       0\n",
       "11428             http://www.mypublicdomainpictures.com/       0\n",
       "11429  http://174.139.46.123/ap/signin?openid.pape.ma...       1\n",
       "\n",
       "[11430 rows x 2 columns]"
      ]
     },
     "execution_count": 24,
     "metadata": {},
     "output_type": "execute_result"
    }
   ],
   "source": [
    "# Cambio de los valores de la columna \"status\" a 0 para \"legitimate\" y 1 para \"phishing\".\n",
    "dataset[\"status\"] = dataset[\"status\"].apply(lambda x: 0 if (x == \"legitimate\") else 1)\n",
    "dataset"
   ]
  },
  {
   "cell_type": "markdown",
   "metadata": {},
   "source": [
    "Con este nuevo resultado podemos comenzar a alistar las nuevas features a utilizar con el objetivo de la clasificación. Esto lo podemos realizar utilizando la función `apply` que nos permite aplicarle una función a una columna entera del dataset con el objetivo de generar una nueva."
   ]
  },
  {
   "cell_type": "code",
   "execution_count": 25,
   "metadata": {},
   "outputs": [
    {
     "data": {
      "text/html": [
       "<div>\n",
       "<style scoped>\n",
       "    .dataframe tbody tr th:only-of-type {\n",
       "        vertical-align: middle;\n",
       "    }\n",
       "\n",
       "    .dataframe tbody tr th {\n",
       "        vertical-align: top;\n",
       "    }\n",
       "\n",
       "    .dataframe thead th {\n",
       "        text-align: right;\n",
       "    }\n",
       "</style>\n",
       "<table border=\"1\" class=\"dataframe\">\n",
       "  <thead>\n",
       "    <tr style=\"text-align: right;\">\n",
       "      <th></th>\n",
       "      <th>status</th>\n",
       "      <th>url_lenght</th>\n",
       "      <th>pathname_lenght</th>\n",
       "      <th>domain_lenght</th>\n",
       "      <th>filename_lenght</th>\n",
       "      <th>domain_vocals</th>\n",
       "      <th>domain_dots</th>\n",
       "      <th>url_slashes</th>\n",
       "      <th>url_dots</th>\n",
       "      <th>url_dashes</th>\n",
       "      <th>url_enthropy</th>\n",
       "      <th>domain_enthropy</th>\n",
       "      <th>url_semicolons</th>\n",
       "      <th>url_percentages</th>\n",
       "      <th>url_hashtags</th>\n",
       "      <th>url_hyphens</th>\n",
       "    </tr>\n",
       "  </thead>\n",
       "  <tbody>\n",
       "    <tr>\n",
       "      <th>0</th>\n",
       "      <td>0</td>\n",
       "      <td>37</td>\n",
       "      <td>11</td>\n",
       "      <td>19</td>\n",
       "      <td>10</td>\n",
       "      <td>5</td>\n",
       "      <td>2</td>\n",
       "      <td>3</td>\n",
       "      <td>3</td>\n",
       "      <td>0</td>\n",
       "      <td>3.219801</td>\n",
       "      <td>3.670932</td>\n",
       "      <td>0</td>\n",
       "      <td>0</td>\n",
       "      <td>0</td>\n",
       "      <td>0</td>\n",
       "    </tr>\n",
       "    <tr>\n",
       "      <th>1</th>\n",
       "      <td>1</td>\n",
       "      <td>77</td>\n",
       "      <td>47</td>\n",
       "      <td>23</td>\n",
       "      <td>32</td>\n",
       "      <td>8</td>\n",
       "      <td>1</td>\n",
       "      <td>5</td>\n",
       "      <td>1</td>\n",
       "      <td>0</td>\n",
       "      <td>2.646733</td>\n",
       "      <td>1.013842</td>\n",
       "      <td>0</td>\n",
       "      <td>0</td>\n",
       "      <td>0</td>\n",
       "      <td>0</td>\n",
       "    </tr>\n",
       "    <tr>\n",
       "      <th>2</th>\n",
       "      <td>1</td>\n",
       "      <td>126</td>\n",
       "      <td>20</td>\n",
       "      <td>50</td>\n",
       "      <td>0</td>\n",
       "      <td>17</td>\n",
       "      <td>4</td>\n",
       "      <td>5</td>\n",
       "      <td>4</td>\n",
       "      <td>1</td>\n",
       "      <td>2.417309</td>\n",
       "      <td>1.449360</td>\n",
       "      <td>0</td>\n",
       "      <td>0</td>\n",
       "      <td>0</td>\n",
       "      <td>1</td>\n",
       "    </tr>\n",
       "    <tr>\n",
       "      <th>3</th>\n",
       "      <td>0</td>\n",
       "      <td>18</td>\n",
       "      <td>0</td>\n",
       "      <td>11</td>\n",
       "      <td>0</td>\n",
       "      <td>3</td>\n",
       "      <td>2</td>\n",
       "      <td>2</td>\n",
       "      <td>2</td>\n",
       "      <td>0</td>\n",
       "      <td>3.612699</td>\n",
       "      <td>2.915925</td>\n",
       "      <td>0</td>\n",
       "      <td>0</td>\n",
       "      <td>0</td>\n",
       "      <td>0</td>\n",
       "    </tr>\n",
       "    <tr>\n",
       "      <th>4</th>\n",
       "      <td>0</td>\n",
       "      <td>55</td>\n",
       "      <td>33</td>\n",
       "      <td>15</td>\n",
       "      <td>0</td>\n",
       "      <td>4</td>\n",
       "      <td>2</td>\n",
       "      <td>5</td>\n",
       "      <td>2</td>\n",
       "      <td>2</td>\n",
       "      <td>2.769723</td>\n",
       "      <td>4.088439</td>\n",
       "      <td>0</td>\n",
       "      <td>0</td>\n",
       "      <td>0</td>\n",
       "      <td>2</td>\n",
       "    </tr>\n",
       "    <tr>\n",
       "      <th>...</th>\n",
       "      <td>...</td>\n",
       "      <td>...</td>\n",
       "      <td>...</td>\n",
       "      <td>...</td>\n",
       "      <td>...</td>\n",
       "      <td>...</td>\n",
       "      <td>...</td>\n",
       "      <td>...</td>\n",
       "      <td>...</td>\n",
       "      <td>...</td>\n",
       "      <td>...</td>\n",
       "      <td>...</td>\n",
       "      <td>...</td>\n",
       "      <td>...</td>\n",
       "      <td>...</td>\n",
       "      <td>...</td>\n",
       "    </tr>\n",
       "    <tr>\n",
       "      <th>11425</th>\n",
       "      <td>0</td>\n",
       "      <td>45</td>\n",
       "      <td>21</td>\n",
       "      <td>17</td>\n",
       "      <td>11</td>\n",
       "      <td>4</td>\n",
       "      <td>2</td>\n",
       "      <td>4</td>\n",
       "      <td>2</td>\n",
       "      <td>0</td>\n",
       "      <td>2.412778</td>\n",
       "      <td>3.465983</td>\n",
       "      <td>0</td>\n",
       "      <td>0</td>\n",
       "      <td>0</td>\n",
       "      <td>0</td>\n",
       "    </tr>\n",
       "    <tr>\n",
       "      <th>11426</th>\n",
       "      <td>1</td>\n",
       "      <td>84</td>\n",
       "      <td>37</td>\n",
       "      <td>18</td>\n",
       "      <td>9</td>\n",
       "      <td>4</td>\n",
       "      <td>2</td>\n",
       "      <td>5</td>\n",
       "      <td>5</td>\n",
       "      <td>0</td>\n",
       "      <td>1.976648</td>\n",
       "      <td>3.535761</td>\n",
       "      <td>0</td>\n",
       "      <td>1</td>\n",
       "      <td>0</td>\n",
       "      <td>0</td>\n",
       "    </tr>\n",
       "    <tr>\n",
       "      <th>11427</th>\n",
       "      <td>0</td>\n",
       "      <td>105</td>\n",
       "      <td>63</td>\n",
       "      <td>16</td>\n",
       "      <td>0</td>\n",
       "      <td>5</td>\n",
       "      <td>2</td>\n",
       "      <td>5</td>\n",
       "      <td>2</td>\n",
       "      <td>6</td>\n",
       "      <td>2.606666</td>\n",
       "      <td>4.488830</td>\n",
       "      <td>0</td>\n",
       "      <td>0</td>\n",
       "      <td>0</td>\n",
       "      <td>6</td>\n",
       "    </tr>\n",
       "    <tr>\n",
       "      <th>11428</th>\n",
       "      <td>0</td>\n",
       "      <td>38</td>\n",
       "      <td>1</td>\n",
       "      <td>30</td>\n",
       "      <td>0</td>\n",
       "      <td>9</td>\n",
       "      <td>2</td>\n",
       "      <td>3</td>\n",
       "      <td>2</td>\n",
       "      <td>0</td>\n",
       "      <td>2.397335</td>\n",
       "      <td>1.885249</td>\n",
       "      <td>0</td>\n",
       "      <td>0</td>\n",
       "      <td>0</td>\n",
       "      <td>0</td>\n",
       "    </tr>\n",
       "    <tr>\n",
       "      <th>11429</th>\n",
       "      <td>1</td>\n",
       "      <td>477</td>\n",
       "      <td>10</td>\n",
       "      <td>14</td>\n",
       "      <td>6</td>\n",
       "      <td>0</td>\n",
       "      <td>3</td>\n",
       "      <td>4</td>\n",
       "      <td>24</td>\n",
       "      <td>0</td>\n",
       "      <td>2.359853</td>\n",
       "      <td>10.445341</td>\n",
       "      <td>9</td>\n",
       "      <td>23</td>\n",
       "      <td>0</td>\n",
       "      <td>0</td>\n",
       "    </tr>\n",
       "  </tbody>\n",
       "</table>\n",
       "<p>11430 rows × 16 columns</p>\n",
       "</div>"
      ],
      "text/plain": [
       "       status  url_lenght  pathname_lenght  domain_lenght  filename_lenght  \\\n",
       "0           0          37               11             19               10   \n",
       "1           1          77               47             23               32   \n",
       "2           1         126               20             50                0   \n",
       "3           0          18                0             11                0   \n",
       "4           0          55               33             15                0   \n",
       "...       ...         ...              ...            ...              ...   \n",
       "11425       0          45               21             17               11   \n",
       "11426       1          84               37             18                9   \n",
       "11427       0         105               63             16                0   \n",
       "11428       0          38                1             30                0   \n",
       "11429       1         477               10             14                6   \n",
       "\n",
       "       domain_vocals  domain_dots  url_slashes  url_dots  url_dashes  \\\n",
       "0                  5            2            3         3           0   \n",
       "1                  8            1            5         1           0   \n",
       "2                 17            4            5         4           1   \n",
       "3                  3            2            2         2           0   \n",
       "4                  4            2            5         2           2   \n",
       "...              ...          ...          ...       ...         ...   \n",
       "11425              4            2            4         2           0   \n",
       "11426              4            2            5         5           0   \n",
       "11427              5            2            5         2           6   \n",
       "11428              9            2            3         2           0   \n",
       "11429              0            3            4        24           0   \n",
       "\n",
       "       url_enthropy  domain_enthropy  url_semicolons  url_percentages  \\\n",
       "0          3.219801         3.670932               0                0   \n",
       "1          2.646733         1.013842               0                0   \n",
       "2          2.417309         1.449360               0                0   \n",
       "3          3.612699         2.915925               0                0   \n",
       "4          2.769723         4.088439               0                0   \n",
       "...             ...              ...             ...              ...   \n",
       "11425      2.412778         3.465983               0                0   \n",
       "11426      1.976648         3.535761               0                1   \n",
       "11427      2.606666         4.488830               0                0   \n",
       "11428      2.397335         1.885249               0                0   \n",
       "11429      2.359853        10.445341               9               23   \n",
       "\n",
       "       url_hashtags  url_hyphens  \n",
       "0                 0            0  \n",
       "1                 0            0  \n",
       "2                 0            1  \n",
       "3                 0            0  \n",
       "4                 0            2  \n",
       "...             ...          ...  \n",
       "11425             0            0  \n",
       "11426             0            0  \n",
       "11427             0            6  \n",
       "11428             0            0  \n",
       "11429             0            0  \n",
       "\n",
       "[11430 rows x 16 columns]"
      ]
     },
     "execution_count": 25,
     "metadata": {},
     "output_type": "execute_result"
    }
   ],
   "source": [
    "# Obtención de las nuevas columnas y eliminación de la columna URL para clasificar.\n",
    "dataset[\"url_lenght\"] = dataset[\"url\"].apply(get_url_length)\n",
    "dataset[\"pathname_lenght\"] = dataset[\"url\"].apply(get_pathname_lenght)\n",
    "dataset[\"domain_lenght\"] = dataset[\"url\"].apply(get_domain_lenght)\n",
    "dataset[\"filename_lenght\"] = dataset[\"url\"].apply(get_filename_lenght)\n",
    "dataset[\"domain_vocals\"] = dataset[\"url\"].apply(get_vocals)\n",
    "dataset[\"domain_dots\"] = dataset[\"url\"].apply(get_domain_points)\n",
    "dataset[\"url_slashes\"] = dataset[\"url\"].apply(get_slashes)\n",
    "dataset[\"url_dots\"] = dataset[\"url\"].apply(get_url_points)\n",
    "dataset[\"url_dashes\"] = dataset[\"url\"].apply(get_dashes)\n",
    "dataset[\"url_enthropy\"] = dataset[\"url\"].apply(get_url_entropy)\n",
    "dataset[\"domain_enthropy\"] = dataset[\"url\"].apply(get_domain_entropy)\n",
    "dataset[\"url_semicolons\"] = dataset[\"url\"].apply(get_url_semicolons)\n",
    "dataset[\"url_percentages\"] = dataset[\"url\"].apply(get_url_percentages)\n",
    "dataset[\"url_hashtags\"] = dataset[\"url\"].apply(get_url_hashtags)\n",
    "dataset[\"url_hyphens\"] = dataset[\"url\"].apply(get_url_hyphens)\n",
    "dataset = dataset.drop(\"url\", axis=1)\n",
    "dataset"
   ]
  },
  {
   "cell_type": "markdown",
   "metadata": {},
   "source": [
    "Ya nos encontramos con un dataset mucho más interesante, que posee las 15 features que planteamos inicialmente, junto con la columna \"status\" que sigue representando si la URL es una URL de phishing o no lo es. Ahora que tenemos este dataset procede escalarlo para poder utilizarlo para el entrenamiento de otros modelos."
   ]
  },
  {
   "cell_type": "code",
   "execution_count": 26,
   "metadata": {},
   "outputs": [
    {
     "name": "stderr",
     "output_type": "stream",
     "text": [
      "c:\\Users\\stara\\AppData\\Local\\Programs\\Python\\Python311\\Lib\\site-packages\\sklearn\\utils\\validation.py:767: FutureWarning: is_sparse is deprecated and will be removed in a future version. Check `isinstance(dtype, pd.SparseDtype)` instead.\n",
      "  if not hasattr(array, \"sparse\") and array.dtypes.apply(is_sparse).any():\n",
      "c:\\Users\\stara\\AppData\\Local\\Programs\\Python\\Python311\\Lib\\site-packages\\sklearn\\utils\\validation.py:605: FutureWarning: is_sparse is deprecated and will be removed in a future version. Check `isinstance(dtype, pd.SparseDtype)` instead.\n",
      "  if is_sparse(pd_dtype):\n",
      "c:\\Users\\stara\\AppData\\Local\\Programs\\Python\\Python311\\Lib\\site-packages\\sklearn\\utils\\validation.py:614: FutureWarning: is_sparse is deprecated and will be removed in a future version. Check `isinstance(dtype, pd.SparseDtype)` instead.\n",
      "  if is_sparse(pd_dtype) or not is_extension_array_dtype(pd_dtype):\n",
      "c:\\Users\\stara\\AppData\\Local\\Programs\\Python\\Python311\\Lib\\site-packages\\sklearn\\utils\\validation.py:767: FutureWarning: is_sparse is deprecated and will be removed in a future version. Check `isinstance(dtype, pd.SparseDtype)` instead.\n",
      "  if not hasattr(array, \"sparse\") and array.dtypes.apply(is_sparse).any():\n",
      "c:\\Users\\stara\\AppData\\Local\\Programs\\Python\\Python311\\Lib\\site-packages\\sklearn\\utils\\validation.py:605: FutureWarning: is_sparse is deprecated and will be removed in a future version. Check `isinstance(dtype, pd.SparseDtype)` instead.\n",
      "  if is_sparse(pd_dtype):\n",
      "c:\\Users\\stara\\AppData\\Local\\Programs\\Python\\Python311\\Lib\\site-packages\\sklearn\\utils\\validation.py:614: FutureWarning: is_sparse is deprecated and will be removed in a future version. Check `isinstance(dtype, pd.SparseDtype)` instead.\n",
      "  if is_sparse(pd_dtype) or not is_extension_array_dtype(pd_dtype):\n"
     ]
    },
    {
     "data": {
      "text/html": [
       "<div>\n",
       "<style scoped>\n",
       "    .dataframe tbody tr th:only-of-type {\n",
       "        vertical-align: middle;\n",
       "    }\n",
       "\n",
       "    .dataframe tbody tr th {\n",
       "        vertical-align: top;\n",
       "    }\n",
       "\n",
       "    .dataframe thead th {\n",
       "        text-align: right;\n",
       "    }\n",
       "</style>\n",
       "<table border=\"1\" class=\"dataframe\">\n",
       "  <thead>\n",
       "    <tr style=\"text-align: right;\">\n",
       "      <th></th>\n",
       "      <th>status</th>\n",
       "      <th>url_lenght</th>\n",
       "      <th>pathname_lenght</th>\n",
       "      <th>domain_lenght</th>\n",
       "      <th>filename_lenght</th>\n",
       "      <th>domain_vocals</th>\n",
       "      <th>domain_dots</th>\n",
       "      <th>url_slashes</th>\n",
       "      <th>url_dots</th>\n",
       "      <th>url_dashes</th>\n",
       "      <th>url_enthropy</th>\n",
       "      <th>domain_enthropy</th>\n",
       "      <th>url_semicolons</th>\n",
       "      <th>url_percentages</th>\n",
       "      <th>url_hashtags</th>\n",
       "      <th>url_hyphens</th>\n",
       "    </tr>\n",
       "  </thead>\n",
       "  <tbody>\n",
       "    <tr>\n",
       "      <th>0</th>\n",
       "      <td>0</td>\n",
       "      <td>0.015347</td>\n",
       "      <td>0.018272</td>\n",
       "      <td>0.071429</td>\n",
       "      <td>0.016694</td>\n",
       "      <td>0.151515</td>\n",
       "      <td>0.076923</td>\n",
       "      <td>0.032258</td>\n",
       "      <td>0.086957</td>\n",
       "      <td>0.000000</td>\n",
       "      <td>0.314892</td>\n",
       "      <td>0.298663</td>\n",
       "      <td>0.00</td>\n",
       "      <td>0.000000</td>\n",
       "      <td>0.0</td>\n",
       "      <td>0.000000</td>\n",
       "    </tr>\n",
       "    <tr>\n",
       "      <th>1</th>\n",
       "      <td>1</td>\n",
       "      <td>0.039902</td>\n",
       "      <td>0.078073</td>\n",
       "      <td>0.090476</td>\n",
       "      <td>0.053422</td>\n",
       "      <td>0.242424</td>\n",
       "      <td>0.000000</td>\n",
       "      <td>0.096774</td>\n",
       "      <td>0.000000</td>\n",
       "      <td>0.000000</td>\n",
       "      <td>0.239518</td>\n",
       "      <td>0.048014</td>\n",
       "      <td>0.00</td>\n",
       "      <td>0.000000</td>\n",
       "      <td>0.0</td>\n",
       "      <td>0.000000</td>\n",
       "    </tr>\n",
       "    <tr>\n",
       "      <th>2</th>\n",
       "      <td>1</td>\n",
       "      <td>0.069982</td>\n",
       "      <td>0.033223</td>\n",
       "      <td>0.219048</td>\n",
       "      <td>0.000000</td>\n",
       "      <td>0.515152</td>\n",
       "      <td>0.230769</td>\n",
       "      <td>0.096774</td>\n",
       "      <td>0.130435</td>\n",
       "      <td>0.023256</td>\n",
       "      <td>0.209343</td>\n",
       "      <td>0.089097</td>\n",
       "      <td>0.00</td>\n",
       "      <td>0.000000</td>\n",
       "      <td>0.0</td>\n",
       "      <td>0.023256</td>\n",
       "    </tr>\n",
       "    <tr>\n",
       "      <th>3</th>\n",
       "      <td>0</td>\n",
       "      <td>0.003683</td>\n",
       "      <td>0.000000</td>\n",
       "      <td>0.033333</td>\n",
       "      <td>0.000000</td>\n",
       "      <td>0.090909</td>\n",
       "      <td>0.076923</td>\n",
       "      <td>0.000000</td>\n",
       "      <td>0.043478</td>\n",
       "      <td>0.000000</td>\n",
       "      <td>0.366568</td>\n",
       "      <td>0.227441</td>\n",
       "      <td>0.00</td>\n",
       "      <td>0.000000</td>\n",
       "      <td>0.0</td>\n",
       "      <td>0.000000</td>\n",
       "    </tr>\n",
       "    <tr>\n",
       "      <th>4</th>\n",
       "      <td>0</td>\n",
       "      <td>0.026397</td>\n",
       "      <td>0.054817</td>\n",
       "      <td>0.052381</td>\n",
       "      <td>0.000000</td>\n",
       "      <td>0.121212</td>\n",
       "      <td>0.076923</td>\n",
       "      <td>0.096774</td>\n",
       "      <td>0.043478</td>\n",
       "      <td>0.046512</td>\n",
       "      <td>0.255695</td>\n",
       "      <td>0.338047</td>\n",
       "      <td>0.00</td>\n",
       "      <td>0.000000</td>\n",
       "      <td>0.0</td>\n",
       "      <td>0.046512</td>\n",
       "    </tr>\n",
       "    <tr>\n",
       "      <th>...</th>\n",
       "      <td>...</td>\n",
       "      <td>...</td>\n",
       "      <td>...</td>\n",
       "      <td>...</td>\n",
       "      <td>...</td>\n",
       "      <td>...</td>\n",
       "      <td>...</td>\n",
       "      <td>...</td>\n",
       "      <td>...</td>\n",
       "      <td>...</td>\n",
       "      <td>...</td>\n",
       "      <td>...</td>\n",
       "      <td>...</td>\n",
       "      <td>...</td>\n",
       "      <td>...</td>\n",
       "      <td>...</td>\n",
       "    </tr>\n",
       "    <tr>\n",
       "      <th>11425</th>\n",
       "      <td>0</td>\n",
       "      <td>0.020258</td>\n",
       "      <td>0.034884</td>\n",
       "      <td>0.061905</td>\n",
       "      <td>0.018364</td>\n",
       "      <td>0.121212</td>\n",
       "      <td>0.076923</td>\n",
       "      <td>0.064516</td>\n",
       "      <td>0.043478</td>\n",
       "      <td>0.000000</td>\n",
       "      <td>0.208747</td>\n",
       "      <td>0.279329</td>\n",
       "      <td>0.00</td>\n",
       "      <td>0.000000</td>\n",
       "      <td>0.0</td>\n",
       "      <td>0.000000</td>\n",
       "    </tr>\n",
       "    <tr>\n",
       "      <th>11426</th>\n",
       "      <td>1</td>\n",
       "      <td>0.044199</td>\n",
       "      <td>0.061462</td>\n",
       "      <td>0.066667</td>\n",
       "      <td>0.015025</td>\n",
       "      <td>0.121212</td>\n",
       "      <td>0.076923</td>\n",
       "      <td>0.096774</td>\n",
       "      <td>0.173913</td>\n",
       "      <td>0.000000</td>\n",
       "      <td>0.151384</td>\n",
       "      <td>0.285912</td>\n",
       "      <td>0.00</td>\n",
       "      <td>0.010417</td>\n",
       "      <td>0.0</td>\n",
       "      <td>0.000000</td>\n",
       "    </tr>\n",
       "    <tr>\n",
       "      <th>11427</th>\n",
       "      <td>0</td>\n",
       "      <td>0.057090</td>\n",
       "      <td>0.104651</td>\n",
       "      <td>0.057143</td>\n",
       "      <td>0.000000</td>\n",
       "      <td>0.151515</td>\n",
       "      <td>0.076923</td>\n",
       "      <td>0.096774</td>\n",
       "      <td>0.043478</td>\n",
       "      <td>0.139535</td>\n",
       "      <td>0.234248</td>\n",
       "      <td>0.375817</td>\n",
       "      <td>0.00</td>\n",
       "      <td>0.000000</td>\n",
       "      <td>0.0</td>\n",
       "      <td>0.139535</td>\n",
       "    </tr>\n",
       "    <tr>\n",
       "      <th>11428</th>\n",
       "      <td>0</td>\n",
       "      <td>0.015961</td>\n",
       "      <td>0.001661</td>\n",
       "      <td>0.123810</td>\n",
       "      <td>0.000000</td>\n",
       "      <td>0.272727</td>\n",
       "      <td>0.076923</td>\n",
       "      <td>0.032258</td>\n",
       "      <td>0.043478</td>\n",
       "      <td>0.000000</td>\n",
       "      <td>0.206716</td>\n",
       "      <td>0.130215</td>\n",
       "      <td>0.00</td>\n",
       "      <td>0.000000</td>\n",
       "      <td>0.0</td>\n",
       "      <td>0.000000</td>\n",
       "    </tr>\n",
       "    <tr>\n",
       "      <th>11429</th>\n",
       "      <td>1</td>\n",
       "      <td>0.285451</td>\n",
       "      <td>0.016611</td>\n",
       "      <td>0.047619</td>\n",
       "      <td>0.010017</td>\n",
       "      <td>0.000000</td>\n",
       "      <td>0.153846</td>\n",
       "      <td>0.064516</td>\n",
       "      <td>1.000000</td>\n",
       "      <td>0.000000</td>\n",
       "      <td>0.201786</td>\n",
       "      <td>0.937706</td>\n",
       "      <td>0.45</td>\n",
       "      <td>0.239583</td>\n",
       "      <td>0.0</td>\n",
       "      <td>0.000000</td>\n",
       "    </tr>\n",
       "  </tbody>\n",
       "</table>\n",
       "<p>11430 rows × 16 columns</p>\n",
       "</div>"
      ],
      "text/plain": [
       "       status  url_lenght  pathname_lenght  domain_lenght  filename_lenght  \\\n",
       "0           0    0.015347         0.018272       0.071429         0.016694   \n",
       "1           1    0.039902         0.078073       0.090476         0.053422   \n",
       "2           1    0.069982         0.033223       0.219048         0.000000   \n",
       "3           0    0.003683         0.000000       0.033333         0.000000   \n",
       "4           0    0.026397         0.054817       0.052381         0.000000   \n",
       "...       ...         ...              ...            ...              ...   \n",
       "11425       0    0.020258         0.034884       0.061905         0.018364   \n",
       "11426       1    0.044199         0.061462       0.066667         0.015025   \n",
       "11427       0    0.057090         0.104651       0.057143         0.000000   \n",
       "11428       0    0.015961         0.001661       0.123810         0.000000   \n",
       "11429       1    0.285451         0.016611       0.047619         0.010017   \n",
       "\n",
       "       domain_vocals  domain_dots  url_slashes  url_dots  url_dashes  \\\n",
       "0           0.151515     0.076923     0.032258  0.086957    0.000000   \n",
       "1           0.242424     0.000000     0.096774  0.000000    0.000000   \n",
       "2           0.515152     0.230769     0.096774  0.130435    0.023256   \n",
       "3           0.090909     0.076923     0.000000  0.043478    0.000000   \n",
       "4           0.121212     0.076923     0.096774  0.043478    0.046512   \n",
       "...              ...          ...          ...       ...         ...   \n",
       "11425       0.121212     0.076923     0.064516  0.043478    0.000000   \n",
       "11426       0.121212     0.076923     0.096774  0.173913    0.000000   \n",
       "11427       0.151515     0.076923     0.096774  0.043478    0.139535   \n",
       "11428       0.272727     0.076923     0.032258  0.043478    0.000000   \n",
       "11429       0.000000     0.153846     0.064516  1.000000    0.000000   \n",
       "\n",
       "       url_enthropy  domain_enthropy  url_semicolons  url_percentages  \\\n",
       "0          0.314892         0.298663            0.00         0.000000   \n",
       "1          0.239518         0.048014            0.00         0.000000   \n",
       "2          0.209343         0.089097            0.00         0.000000   \n",
       "3          0.366568         0.227441            0.00         0.000000   \n",
       "4          0.255695         0.338047            0.00         0.000000   \n",
       "...             ...              ...             ...              ...   \n",
       "11425      0.208747         0.279329            0.00         0.000000   \n",
       "11426      0.151384         0.285912            0.00         0.010417   \n",
       "11427      0.234248         0.375817            0.00         0.000000   \n",
       "11428      0.206716         0.130215            0.00         0.000000   \n",
       "11429      0.201786         0.937706            0.45         0.239583   \n",
       "\n",
       "       url_hashtags  url_hyphens  \n",
       "0               0.0     0.000000  \n",
       "1               0.0     0.000000  \n",
       "2               0.0     0.023256  \n",
       "3               0.0     0.000000  \n",
       "4               0.0     0.046512  \n",
       "...             ...          ...  \n",
       "11425           0.0     0.000000  \n",
       "11426           0.0     0.000000  \n",
       "11427           0.0     0.139535  \n",
       "11428           0.0     0.000000  \n",
       "11429           0.0     0.000000  \n",
       "\n",
       "[11430 rows x 16 columns]"
      ]
     },
     "execution_count": 26,
     "metadata": {},
     "output_type": "execute_result"
    }
   ],
   "source": [
    "# Proceso de importar MinMaxScaler para escalar los datos.\n",
    "from sklearn.preprocessing import MinMaxScaler\n",
    "\n",
    "# Instancia del MinMaxScaler.\n",
    "scaler = MinMaxScaler()\n",
    "\n",
    "# Escalamiento y retorno del nuevo dataset.\n",
    "dataset = pd.DataFrame(scaler.fit_transform(dataset), columns=dataset.columns)\n",
    "dataset[\"status\"] = dataset[\"status\"].apply(lambda x: int(x))\n",
    "dataset"
   ]
  },
  {
   "cell_type": "markdown",
   "metadata": {},
   "source": [
    "Finalmente tenemos un dataset listo para ser utilizado con los modelos que nuestro equipo de trabajo considera los que posiblemente sean los mejores al momento de clasificar URLs basadas en las características que obtuvimos finalmente."
   ]
  },
  {
   "cell_type": "markdown",
   "metadata": {},
   "source": [
    "Algo que vale la pena realizar es guardar el presente dataset limpio y listo para ser utilizado como un archivo .csv. Esto lo podemos realizar con la función `to_csv` que viene incluida con la clase de los datasets de pandas."
   ]
  },
  {
   "cell_type": "code",
   "execution_count": 28,
   "metadata": {},
   "outputs": [],
   "source": [
    "# Almacenamiento del presente dataset como .csv.\n",
    "dataset.to_csv(\"./data/dataset_phishing_clean.csv\")"
   ]
  },
  {
   "cell_type": "markdown",
   "metadata": {},
   "source": [
    "### Visualizacion de resultados"
   ]
  },
  {
   "cell_type": "markdown",
   "metadata": {},
   "source": [
    "Como parte del laboratorio, y antes de comenzar a probar distintos modelos, se utilizará la librería `pandas_profiling` para obtener una visualización de los resultados del dataset obtenido luego de todo el tema de preprocesamiento y más."
   ]
  },
  {
   "cell_type": "code",
   "execution_count": 27,
   "metadata": {},
   "outputs": [
    {
     "name": "stderr",
     "output_type": "stream",
     "text": [
      "c:\\Users\\stara\\AppData\\Local\\Programs\\Python\\Python311\\Lib\\site-packages\\tqdm\\auto.py:21: TqdmWarning: IProgress not found. Please update jupyter and ipywidgets. See https://ipywidgets.readthedocs.io/en/stable/user_install.html\n",
      "  from .autonotebook import tqdm as notebook_tqdm\n"
     ]
    },
    {
     "name": "stderr",
     "output_type": "stream",
     "text": [
      "C:\\Users\\stara\\AppData\\Local\\Temp\\ipykernel_16512\\2879513315.py:1: DeprecationWarning: `import pandas_profiling` is going to be deprecated by April 1st. Please use `import ydata_profiling` instead.\n",
      "  import pandas_profiling\n",
      "Summarize dataset:   0%|          | 0/5 [00:00<?, ?it/s]c:\\Users\\stara\\AppData\\Local\\Programs\\Python\\Python311\\Lib\\site-packages\\ydata_profiling\\model\\typeset.py:208: FutureWarning: is_categorical_dtype is deprecated and will be removed in a future version. Use isinstance(dtype, CategoricalDtype) instead\n",
      "  is_valid_dtype = pdt.is_categorical_dtype(series) and not pdt.is_bool_dtype(\n",
      "c:\\Users\\stara\\AppData\\Local\\Programs\\Python\\Python311\\Lib\\site-packages\\ydata_profiling\\model\\typeset.py:208: FutureWarning: is_categorical_dtype is deprecated and will be removed in a future version. Use isinstance(dtype, CategoricalDtype) instead\n",
      "  is_valid_dtype = pdt.is_categorical_dtype(series) and not pdt.is_bool_dtype(\n",
      "c:\\Users\\stara\\AppData\\Local\\Programs\\Python\\Python311\\Lib\\site-packages\\ydata_profiling\\model\\typeset.py:208: FutureWarning: is_categorical_dtype is deprecated and will be removed in a future version. Use isinstance(dtype, CategoricalDtype) instead\n",
      "  is_valid_dtype = pdt.is_categorical_dtype(series) and not pdt.is_bool_dtype(\n",
      "c:\\Users\\stara\\AppData\\Local\\Programs\\Python\\Python311\\Lib\\site-packages\\ydata_profiling\\model\\typeset.py:208: FutureWarning: is_categorical_dtype is deprecated and will be removed in a future version. Use isinstance(dtype, CategoricalDtype) instead\n",
      "  is_valid_dtype = pdt.is_categorical_dtype(series) and not pdt.is_bool_dtype(\n",
      "c:\\Users\\stara\\AppData\\Local\\Programs\\Python\\Python311\\Lib\\site-packages\\ydata_profiling\\model\\typeset.py:208: FutureWarning: is_categorical_dtype is deprecated and will be removed in a future version. Use isinstance(dtype, CategoricalDtype) instead\n",
      "  is_valid_dtype = pdt.is_categorical_dtype(series) and not pdt.is_bool_dtype(\n",
      "c:\\Users\\stara\\AppData\\Local\\Programs\\Python\\Python311\\Lib\\site-packages\\ydata_profiling\\model\\typeset.py:208: FutureWarning: is_categorical_dtype is deprecated and will be removed in a future version. Use isinstance(dtype, CategoricalDtype) instead\n",
      "  is_valid_dtype = pdt.is_categorical_dtype(series) and not pdt.is_bool_dtype(\n",
      "c:\\Users\\stara\\AppData\\Local\\Programs\\Python\\Python311\\Lib\\site-packages\\ydata_profiling\\model\\typeset.py:208: FutureWarning: is_categorical_dtype is deprecated and will be removed in a future version. Use isinstance(dtype, CategoricalDtype) instead\n",
      "  is_valid_dtype = pdt.is_categorical_dtype(series) and not pdt.is_bool_dtype(\n",
      "Summarize dataset: 100%|██████████| 221/221 [00:13<00:00, 16.44it/s, Completed]                               \n",
      "Generate report structure: 100%|██████████| 1/1 [00:02<00:00,  2.85s/it]\n",
      "Render HTML: 100%|██████████| 1/1 [00:02<00:00,  2.54s/it]\n",
      "Export report to file: 100%|██████████| 1/1 [00:00<00:00, 37.02it/s]\n"
     ]
    }
   ],
   "source": [
    "# Proceso de importación de pandas_profiling.\n",
    "import pandas_profiling\n",
    "\n",
    "# Crear el perfil con pandas_profiling.\n",
    "profile = pandas_profiling.ProfileReport(dataset, config_file=None)\n",
    "\n",
    "# Generar el informe y guardarlo como un archivo HTML.\n",
    "profile.to_file(\"informe_perfil.html\")"
   ]
  },
  {
   "cell_type": "markdown",
   "metadata": {},
   "source": [
    "Con esta última sección de visualización de resultados, dándonos la capacidad de observar correlaciones entre datos y más en el archivo `informe_perfil.html`, damos por concluída la parte 1 del laboratorio, y pasamos a la implementación de los modelos para poder reconocer el estado de una URL dadas las características que se implementaron anteriormente."
   ]
  },
  {
   "cell_type": "markdown",
   "metadata": {},
   "source": [
    "## Parte 2 - Implementación"
   ]
  },
  {
   "cell_type": "markdown",
   "metadata": {},
   "source": [
    "En la segunda fase de este laboratorio, nos adentraremos en la implementación de modelos de Machine Learning destinados a la clasificación de URLs como legítimas o potencialmente maliciosas. Dividiremos nuestros datos en conjuntos de entrenamiento, validación y prueba, asignando el 55%, 15% y 30% del conjunto de datos respectivamente, para garantizar una evaluación rigurosa y objetiva del desempeño de nuestros modelos.\n",
    "\n",
    "Luego, procederemos con la implementación de dos algoritmos de Machine Learning seleccionados, los cuales serán entrenados utilizando el conjunto de datos de entrenamiento previamente preparado. Evaluaremos el rendimiento de cada modelo utilizando métricas específicas para el contexto del problema de detección de phishing, incluyendo la matriz de confusión, la precisión, la recuperación, la curva ROC y el área bajo la curva (AUC).\n",
    "\n",
    "Una vez obtenidos los resultados de la evaluación para los datos de validación y prueba, llevaremos a cabo un análisis detallado para comprender el impacto de las predicciones de cada modelo. Discutiremos las implicaciones de clasificar un sitio legítimo como phishing y viceversa, y seleccionaremos la métrica más apropiada para comparar los modelos de clasificación de phishing. Finalmente, determinaremos qué modelo ofreció el mejor desempeño y discutiremos posibles estrategias para optimizar el modelo y reducir la cantidad de falsas alarmas en un entorno empresarial."
   ]
  },
  {
   "cell_type": "markdown",
   "metadata": {},
   "source": [
    "### Separación de datos"
   ]
  }
 ],
 "metadata": {
  "kernelspec": {
   "display_name": "Python 3",
   "language": "python",
   "name": "python3"
  },
  "language_info": {
   "codemirror_mode": {
    "name": "ipython",
    "version": 3
   },
   "file_extension": ".py",
   "mimetype": "text/x-python",
   "name": "python",
   "nbconvert_exporter": "python",
   "pygments_lexer": "ipython3",
   "version": "3.11.5"
  }
 },
 "nbformat": 4,
 "nbformat_minor": 2
}
