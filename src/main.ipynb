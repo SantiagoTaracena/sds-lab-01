{
 "cells": [
  {
   "cell_type": "markdown",
   "metadata": {},
   "source": [
    "# Universidad del Valle de Guatemala\n",
    "# (CC3094) Security Data Science\n",
    "# Laboratorio 1 - Detección de Phishing\n",
    "\n",
    "Miembros del equipo de trabajo:\n",
    "- Yongbum Park (20117)\n",
    "- Santiago Taracena Puga (20017)"
   ]
  },
  {
   "cell_type": "markdown",
   "metadata": {},
   "source": [
    "## Introducción\n",
    "\n",
    "En el ámbito actual de la ciberseguridad, la detección y prevención de ataques de phishing se han convertido en prioridades esenciales para salvaguardar la integridad de la información y la privacidad de los usuarios en línea. El phishing, basado en la astuta manipulación psicológica de las víctimas, se ha erigido como una de las tácticas más eficaces utilizadas por ciberdelincuentes para obtener información confidencial, como credenciales de acceso a cuentas bancarias, datos personales y contraseñas.\n",
    "\n",
    "El presente informe aborda la implementación de un modelo de Machine Learning (ML) destinado a clasificar URLs como legítimas o phishing, fundamentándose en el análisis de características intrínsecas de las direcciones web. Este enfoque busca contrarrestar los sofisticados métodos empleados por los atacantes, quienes, a través de ingeniería social, logran crear réplicas convincentes de sitios web legítimos para engañar a los usuarios.\n",
    "\n",
    "El laboratorio se estructura en dos partes esenciales: la primera se centra en la ingeniería de características, exploración de datos, derivación de características y preprocesamiento, mientras que la segunda se enfoca en la implementación de modelos de ML y la evaluación de su desempeño. Todo el proceso se desarrollará en el lenguaje de programación Python, aprovechando herramientas y librerías especializadas.\n",
    "\n",
    "La detección de phishing no solo constituye un desafío técnico, sino también un imperativo para mitigar riesgos financieros y salvaguardar la confidencialidad de la información sensible. Este laboratorio proporcionará una perspectiva práctica sobre cómo abordar esta problemática mediante la aplicación de técnicas de ML, ofreciendo a los participantes una valiosa experiencia en la intersección de la seguridad informática y la ciencia de datos."
   ]
  },
  {
   "cell_type": "markdown",
   "metadata": {},
   "source": [
    "## Parte 1 - Ingeniería de Características\n",
    "\n",
    "En la primera fase de este laboratorio, nos enfocaremos en la Ingeniería de Características, un paso crucial para dotar al modelo de Machine Learning de la capacidad de discernir entre URLs legítimas y potenciales intentos de phishing. Comenzaremos por cargar el conjunto de datos proporcionado en un dataframe de pandas, permitiendo una visualización inicial de cinco observaciones para comprender la estructura del mismo. A continuación, evaluaremos la distribución de las etiquetas en la columna \"status\", identificando la proporción de URLs etiquetadas como \"legit\" y \"phishing\", con el objetivo de determinar si el conjunto de datos presenta un equilibrio adecuado.\n",
    "\n",
    "Posteriormente, nos sumergiremos en la Derivación de Características, donde exploraremos las ventajas del análisis de una URL en comparación con otros datos, como el tiempo de vida del dominio o las características de la página web. Inspirándonos en artículos especializados en la clasificación de phishing, identificaremos al menos quince funciones basadas en estas investigaciones para enriquecer nuestro conjunto de datos con características relevantes. El proceso de preprocesamiento será esencial para convertir la variable categórica \"status\" en una variable binaria, eliminar la columna del dominio y realizar ajustes necesarios para garantizar la coherencia y eficacia del análisis. Finalmente, emplearemos la herramienta pandas_profiling para generar un reporte de perfil que nos proporcionará insights cruciales sobre las características del conjunto de datos y nos guiará en la selección de las características más significativas para la detección de phishing."
   ]
  },
  {
   "cell_type": "markdown",
   "metadata": {},
   "source": [
    "### Exploración de datos\n",
    "\n",
    "Lo primero que debemos realizar, como en todo procedimiento de Ingeniería de Características y procedimientos relacionados a Ingeniería de Datos antes de comenzar con el entrenamiento de un nuevo modelo de aprendizaje de máquina, es familiarizarnos con los datos que nos han sido proporcionados. Antes de cualquier otra cosa, necesitamos hacer uso de la librería de pandas para poder leer el dataset que nos ha sido proporcionado."
   ]
  },
  {
   "cell_type": "code",
   "execution_count": 1,
   "metadata": {},
   "outputs": [],
   "source": [
    "# Instrucción para importar la librería pandas.\n",
    "import pandas as pd"
   ]
  },
  {
   "cell_type": "markdown",
   "metadata": {},
   "source": [
    "Con pandas a nuestra disposición, podemos proceder a leer el dataset que tenemos qué utilizar para el laboratorio. Esto lo podemos realizar utilizando la función `read_csv`, que nos permite leer un archivo con extensión .csv y convertirlo a un DataFrame de pandas, mucho más fácil de manipular."
   ]
  },
  {
   "cell_type": "code",
   "execution_count": 2,
   "metadata": {},
   "outputs": [],
   "source": [
    "# Proceso para leer el dataset y colocarlo en un DataFrame.\n",
    "dataset = pd.read_csv(\"./data/dataset_phishing.csv\")"
   ]
  },
  {
   "cell_type": "markdown",
   "metadata": {},
   "source": [
    "Algo que se solicita en las instrucciones del laboratorio es poder realizar una observación rápida de un ejemplo de cinco entradas del dataset. Esto lo podemos realizar utilizando la función `head`, que nos retorna las primeras cinco entradas de un DataFrame de pandas."
   ]
  },
  {
   "cell_type": "code",
   "execution_count": 3,
   "metadata": {},
   "outputs": [
    {
     "data": {
      "text/html": [
       "<div>\n",
       "<style scoped>\n",
       "    .dataframe tbody tr th:only-of-type {\n",
       "        vertical-align: middle;\n",
       "    }\n",
       "\n",
       "    .dataframe tbody tr th {\n",
       "        vertical-align: top;\n",
       "    }\n",
       "\n",
       "    .dataframe thead th {\n",
       "        text-align: right;\n",
       "    }\n",
       "</style>\n",
       "<table border=\"1\" class=\"dataframe\">\n",
       "  <thead>\n",
       "    <tr style=\"text-align: right;\">\n",
       "      <th></th>\n",
       "      <th>url</th>\n",
       "      <th>status</th>\n",
       "    </tr>\n",
       "  </thead>\n",
       "  <tbody>\n",
       "    <tr>\n",
       "      <th>0</th>\n",
       "      <td>http://www.crestonwood.com/router.php</td>\n",
       "      <td>legitimate</td>\n",
       "    </tr>\n",
       "    <tr>\n",
       "      <th>1</th>\n",
       "      <td>http://shadetreetechnology.com/V4/validation/a...</td>\n",
       "      <td>phishing</td>\n",
       "    </tr>\n",
       "    <tr>\n",
       "      <th>2</th>\n",
       "      <td>https://support-appleld.com.secureupdate.duila...</td>\n",
       "      <td>phishing</td>\n",
       "    </tr>\n",
       "    <tr>\n",
       "      <th>3</th>\n",
       "      <td>http://rgipt.ac.in</td>\n",
       "      <td>legitimate</td>\n",
       "    </tr>\n",
       "    <tr>\n",
       "      <th>4</th>\n",
       "      <td>http://www.iracing.com/tracks/gateway-motorspo...</td>\n",
       "      <td>legitimate</td>\n",
       "    </tr>\n",
       "  </tbody>\n",
       "</table>\n",
       "</div>"
      ],
      "text/plain": [
       "                                                 url      status\n",
       "0              http://www.crestonwood.com/router.php  legitimate\n",
       "1  http://shadetreetechnology.com/V4/validation/a...    phishing\n",
       "2  https://support-appleld.com.secureupdate.duila...    phishing\n",
       "3                                 http://rgipt.ac.in  legitimate\n",
       "4  http://www.iracing.com/tracks/gateway-motorspo...  legitimate"
      ]
     },
     "execution_count": 3,
     "metadata": {},
     "output_type": "execute_result"
    }
   ],
   "source": [
    "# Primeras cinco filas del dataset.\n",
    "dataset.head()"
   ]
  },
  {
   "cell_type": "markdown",
   "metadata": {},
   "source": [
    "Posteriormente necesitamos verificar si el dataset se encuentra balanceado, ya que esta característica es particularmente útil al momento de entrenar un modelo que sea capaz de clasificar entre dos, valga la redundancia, clases diferentes. Esto lo podemos observar, en primer lugar, averiguando cuántas filas tiene nuestro dataset. Esto se puede realizar observando la propiedad `shape` presente en todos los DataFrames de pandas."
   ]
  },
  {
   "cell_type": "code",
   "execution_count": 4,
   "metadata": {},
   "outputs": [
    {
     "data": {
      "text/plain": [
       "(11430, 2)"
      ]
     },
     "execution_count": 4,
     "metadata": {},
     "output_type": "execute_result"
    }
   ],
   "source": [
    "# Tupla con las filas y columnas del dataset.\n",
    "dataset.shape"
   ]
  },
  {
   "cell_type": "markdown",
   "metadata": {},
   "source": [
    "Sabiendo que contamos con 11,430 filas en el dataset, podemos observar cuántas de estas filas corresponden a entradas legítimas o entradas de phishing. A continuación se realiza el query para observar cuántas filas hay de cada una de las clases."
   ]
  },
  {
   "cell_type": "code",
   "execution_count": 5,
   "metadata": {},
   "outputs": [
    {
     "data": {
      "text/plain": [
       "5715"
      ]
     },
     "execution_count": 5,
     "metadata": {},
     "output_type": "execute_result"
    }
   ],
   "source": [
    "# Cantidad de entradas legítimas del dataset.\n",
    "dataset[dataset[\"status\"] == \"legitimate\"].shape[0]"
   ]
  },
  {
   "cell_type": "code",
   "execution_count": 6,
   "metadata": {},
   "outputs": [
    {
     "data": {
      "text/plain": [
       "5715"
      ]
     },
     "execution_count": 6,
     "metadata": {},
     "output_type": "execute_result"
    }
   ],
   "source": [
    "# Cantidad de entradas de phishing del dataset.\n",
    "dataset[dataset[\"status\"] == \"phishing\"].shape[0]"
   ]
  },
  {
   "cell_type": "markdown",
   "metadata": {},
   "source": [
    "Podemos notar cómo el dataset se encuentra perfectamente balanceado, ya que tenemos 5,715 entradas de cada clase para hacer de cada una el 50% del dataset. Al tener esta característica, nos evitamos la gran mayoría de procedimientos manuales para balancear el dataset antes de entrenar al modelo."
   ]
  },
  {
   "cell_type": "markdown",
   "metadata": {},
   "source": [
    "### Derivación de características"
   ]
  },
  {
   "cell_type": "markdown",
   "metadata": {},
   "source": [
    "#### Largo de la URL"
   ]
  },
  {
   "cell_type": "markdown",
   "metadata": {},
   "source": [
    "Para comenzar, vale mucho la pena dejar seteado un dominio para realizar las diferentes pruebas a cada una de las funciones que se van a utilizar para obtener las propiedades codificadas."
   ]
  },
  {
   "cell_type": "code",
   "execution_count": 7,
   "metadata": {},
   "outputs": [],
   "source": [
    "# Dominio a usar para tests.\n",
    "TEST_DOMAIN = \"http://www.crestonwood.com/router.php\""
   ]
  },
  {
   "cell_type": "markdown",
   "metadata": {},
   "source": [
    "La primera de las características a utilizar, la cual es considerada la más importante al momento de clasificar estas URLs, es la longitud de la URL que se va a visitar."
   ]
  },
  {
   "cell_type": "code",
   "execution_count": 8,
   "metadata": {},
   "outputs": [
    {
     "data": {
      "text/plain": [
       "37"
      ]
     },
     "execution_count": 8,
     "metadata": {},
     "output_type": "execute_result"
    }
   ],
   "source": [
    "# Largo de la URL.\n",
    "from utils.get_url_lenght import get_url_length\n",
    "\n",
    "# Resultado del largo de la URL.\n",
    "get_url_length(TEST_DOMAIN)"
   ]
  },
  {
   "cell_type": "markdown",
   "metadata": {},
   "source": [
    "#### Largo del pathname"
   ]
  },
  {
   "cell_type": "markdown",
   "metadata": {},
   "source": [
    "Otra característica muy importante a utilizar es el pathname, que también permite detectar anormalidades en la URL dada."
   ]
  },
  {
   "cell_type": "code",
   "execution_count": 9,
   "metadata": {},
   "outputs": [
    {
     "data": {
      "text/plain": [
       "11"
      ]
     },
     "execution_count": 9,
     "metadata": {},
     "output_type": "execute_result"
    }
   ],
   "source": [
    "# Largo del pathname.\n",
    "from utils.get_pathname_lenght import get_pathname_lenght\n",
    "\n",
    "# Resultado del largo del pathname.\n",
    "get_pathname_lenght(TEST_DOMAIN)"
   ]
  },
  {
   "cell_type": "markdown",
   "metadata": {},
   "source": [
    "#### Largo del domain"
   ]
  },
  {
   "cell_type": "markdown",
   "metadata": {},
   "source": [
    "Otra característica importante es el largo del dominio en cuestión."
   ]
  },
  {
   "cell_type": "code",
   "execution_count": 10,
   "metadata": {},
   "outputs": [
    {
     "data": {
      "text/plain": [
       "19"
      ]
     },
     "execution_count": 10,
     "metadata": {},
     "output_type": "execute_result"
    }
   ],
   "source": [
    "# Largo del domain.\n",
    "from utils.get_domain_lenght import get_domain_lenght\n",
    "\n",
    "# Resultado del largo del domain.\n",
    "get_domain_lenght(TEST_DOMAIN)"
   ]
  },
  {
   "cell_type": "markdown",
   "metadata": {},
   "source": [
    "#### Largo del filename"
   ]
  },
  {
   "cell_type": "markdown",
   "metadata": {},
   "source": [
    "Finalmente, otra característica relacionada a la longitud del archivo que se encuentra siendo cargado."
   ]
  },
  {
   "cell_type": "code",
   "execution_count": 11,
   "metadata": {},
   "outputs": [
    {
     "data": {
      "text/plain": [
       "10"
      ]
     },
     "execution_count": 11,
     "metadata": {},
     "output_type": "execute_result"
    }
   ],
   "source": [
    "# Largo del filename.\n",
    "from utils.get_filename_lenght import get_filename_lenght\n",
    "\n",
    "# Resultado del largo del filename.\n",
    "get_filename_lenght(TEST_DOMAIN)"
   ]
  },
  {
   "cell_type": "markdown",
   "metadata": {},
   "source": [
    "#### Número de vocales en el domain"
   ]
  },
  {
   "cell_type": "markdown",
   "metadata": {},
   "source": [
    "Otra característica que se tomó en cuenta es la cantidad de vocales del dominio."
   ]
  },
  {
   "cell_type": "code",
   "execution_count": 12,
   "metadata": {},
   "outputs": [
    {
     "data": {
      "text/plain": [
       "5"
      ]
     },
     "execution_count": 12,
     "metadata": {},
     "output_type": "execute_result"
    }
   ],
   "source": [
    "# Número de vocales en el domain.\n",
    "from utils.get_vocals import get_vocals\n",
    "\n",
    "# Resultado del número de vocales en el domain.\n",
    "get_vocals(TEST_DOMAIN)"
   ]
  },
  {
   "cell_type": "markdown",
   "metadata": {},
   "source": [
    "#### Número de puntos en el domain"
   ]
  },
  {
   "cell_type": "markdown",
   "metadata": {},
   "source": [
    "También se tomó en cuenta el número de puntos que se encuentran en el dominio."
   ]
  },
  {
   "cell_type": "code",
   "execution_count": 13,
   "metadata": {},
   "outputs": [
    {
     "data": {
      "text/plain": [
       "2"
      ]
     },
     "execution_count": 13,
     "metadata": {},
     "output_type": "execute_result"
    }
   ],
   "source": [
    "# Número de puntos en el domain.\n",
    "from utils.get_domain_points import get_domain_points\n",
    "\n",
    "# Resultado del número de puntos en el domain.\n",
    "get_domain_points(TEST_DOMAIN)"
   ]
  },
  {
   "cell_type": "markdown",
   "metadata": {},
   "source": [
    "#### Número de slash en la URL"
   ]
  },
  {
   "cell_type": "markdown",
   "metadata": {},
   "source": [
    "Al igual que la cantidad de puntos, el equipo de trabajo también consideró útil tener en cuenta en número de slashes presentes en el dominio."
   ]
  },
  {
   "cell_type": "code",
   "execution_count": 14,
   "metadata": {},
   "outputs": [
    {
     "data": {
      "text/plain": [
       "3"
      ]
     },
     "execution_count": 14,
     "metadata": {},
     "output_type": "execute_result"
    }
   ],
   "source": [
    "# Número de slash en el domain.\n",
    "from utils.get_slashes import get_slashes\n",
    "\n",
    "# Resultado del número de slash en el domain.\n",
    "get_slashes(TEST_DOMAIN)"
   ]
  },
  {
   "cell_type": "markdown",
   "metadata": {},
   "source": [
    "#### Número de puntos en la URL"
   ]
  },
  {
   "cell_type": "markdown",
   "metadata": {},
   "source": [
    "Como la importancia de los puntos en el dominio es alta, también se tomó en cuenta la importancia de los puntos ubicados en la URL."
   ]
  },
  {
   "cell_type": "code",
   "execution_count": 15,
   "metadata": {},
   "outputs": [
    {
     "data": {
      "text/plain": [
       "3"
      ]
     },
     "execution_count": 15,
     "metadata": {},
     "output_type": "execute_result"
    }
   ],
   "source": [
    "# Número de puntos en la URL.\n",
    "from utils.get_url_points import get_url_points\n",
    "\n",
    "# Resultado del número de puntos en la URL.\n",
    "get_url_points(TEST_DOMAIN)"
   ]
  },
  {
   "cell_type": "markdown",
   "metadata": {},
   "source": [
    "#### Número de dashes en la URL"
   ]
  },
  {
   "cell_type": "markdown",
   "metadata": {},
   "source": [
    "Los dashes o guiones también son elementos muy importantes que se suelen encontrar en las URLs, por lo que también es una característica que se tomó en cuenta."
   ]
  },
  {
   "cell_type": "code",
   "execution_count": 16,
   "metadata": {},
   "outputs": [
    {
     "data": {
      "text/plain": [
       "0"
      ]
     },
     "execution_count": 16,
     "metadata": {},
     "output_type": "execute_result"
    }
   ],
   "source": [
    "# Número de dashes en la URL.\n",
    "from utils.get_dashes import get_dashes\n",
    "\n",
    "# Resultado del número de dashes en la URL.\n",
    "get_dashes(TEST_DOMAIN)"
   ]
  },
  {
   "cell_type": "markdown",
   "metadata": {},
   "source": [
    "#### Entropía de la URL"
   ]
  },
  {
   "cell_type": "markdown",
   "metadata": {},
   "source": [
    "Consideramos sumamente interesante obtener la entropía de la URL para poder determinar si es una característica útil para clasificar si la misma URL es phishing o no."
   ]
  },
  {
   "cell_type": "code",
   "execution_count": 17,
   "metadata": {},
   "outputs": [
    {
     "data": {
      "text/plain": [
       "3.219801351466487"
      ]
     },
     "execution_count": 17,
     "metadata": {},
     "output_type": "execute_result"
    }
   ],
   "source": [
    "# Entropía de la URL.\n",
    "from utils.get_url_entropy import get_url_entropy\n",
    "\n",
    "# Resultado de la entropía de la URL.\n",
    "get_url_entropy(TEST_DOMAIN)"
   ]
  },
  {
   "cell_type": "markdown",
   "metadata": {},
   "source": [
    "#### Entropía del dominio"
   ]
  },
  {
   "cell_type": "markdown",
   "metadata": {},
   "source": [
    "Igual que con la URL, también consideramos útil observar la entropía del dominio que se encuentra analizando."
   ]
  },
  {
   "cell_type": "code",
   "execution_count": 18,
   "metadata": {},
   "outputs": [
    {
     "data": {
      "text/plain": [
       "3.6709322176247574"
      ]
     },
     "execution_count": 18,
     "metadata": {},
     "output_type": "execute_result"
    }
   ],
   "source": [
    "# Entropía del dominio.\n",
    "from utils.get_domain_entropy import get_domain_entropy\n",
    "\n",
    "# Resultado de la entropía del dominio.\n",
    "get_domain_entropy(TEST_DOMAIN)"
   ]
  },
  {
   "cell_type": "markdown",
   "metadata": {},
   "source": [
    "#### Número de puntos y comas de la URL"
   ]
  },
  {
   "cell_type": "markdown",
   "metadata": {},
   "source": [
    "Otro caracter que consideramos importante es la cantidad de puntos y comas que se encuentran en el dominio."
   ]
  },
  {
   "cell_type": "code",
   "execution_count": 19,
   "metadata": {},
   "outputs": [
    {
     "data": {
      "text/plain": [
       "0"
      ]
     },
     "execution_count": 19,
     "metadata": {},
     "output_type": "execute_result"
    }
   ],
   "source": [
    "# Número de puntos y comas de la URL.\n",
    "from utils.get_url_semicolons import get_url_semicolons\n",
    "\n",
    "# Resultado del número de puntos y comas de la URL.\n",
    "get_url_semicolons(TEST_DOMAIN)"
   ]
  },
  {
   "cell_type": "markdown",
   "metadata": {},
   "source": [
    "#### Número de porcentajes de la URL"
   ]
  },
  {
   "cell_type": "markdown",
   "metadata": {},
   "source": [
    "También consideramos importante la cantidad de porcentajes que se encuentren en la URL, especialmente para tener en cuenta temas de variables."
   ]
  },
  {
   "cell_type": "code",
   "execution_count": 20,
   "metadata": {},
   "outputs": [
    {
     "data": {
      "text/plain": [
       "0"
      ]
     },
     "execution_count": 20,
     "metadata": {},
     "output_type": "execute_result"
    }
   ],
   "source": [
    "# Número de porcentajes de la URL.\n",
    "from utils.get_url_percentages import get_url_percentages\n",
    "\n",
    "# Resultado del número de porcentajes de la URL.\n",
    "get_url_percentages(TEST_DOMAIN)"
   ]
  },
  {
   "cell_type": "markdown",
   "metadata": {},
   "source": [
    "#### Número de hashtags de la URL"
   ]
  },
  {
   "cell_type": "markdown",
   "metadata": {},
   "source": [
    "La cantidad de hashtags o numerales en la URL es otra variable importante debido a cómo esta puede indicar elementos de HTML que se hagan referencia en la URL original."
   ]
  },
  {
   "cell_type": "code",
   "execution_count": 21,
   "metadata": {},
   "outputs": [
    {
     "data": {
      "text/plain": [
       "0"
      ]
     },
     "execution_count": 21,
     "metadata": {},
     "output_type": "execute_result"
    }
   ],
   "source": [
    "# Número de hashtags de la URL.\n",
    "from utils.get_url_hashtags import get_url_hashtags\n",
    "\n",
    "# Resultado del número de hashtags de la URL.\n",
    "get_url_hashtags(TEST_DOMAIN)"
   ]
  },
  {
   "cell_type": "markdown",
   "metadata": {},
   "source": [
    "#### Número de guiones bajos de la URL"
   ]
  },
  {
   "cell_type": "markdown",
   "metadata": {},
   "source": [
    "Finalmente, consideramos que los guiones bajos presentes en la URL también son importantes para su clasificación."
   ]
  },
  {
   "cell_type": "code",
   "execution_count": 22,
   "metadata": {},
   "outputs": [
    {
     "data": {
      "text/plain": [
       "0"
      ]
     },
     "execution_count": 22,
     "metadata": {},
     "output_type": "execute_result"
    }
   ],
   "source": [
    "# Número de guiones bajos de la URL.\n",
    "from utils.get_url_hyphens import get_url_hyphens\n",
    "\n",
    "# Resultado del número de guiones bajos de la URL.\n",
    "get_url_hyphens(TEST_DOMAIN)"
   ]
  },
  {
   "cell_type": "markdown",
   "metadata": {},
   "source": [
    "Con estas características implementadas nos encontramos listos para poder comenzar con el procedimiento de crear nuevas columnas en el dataset que nos permitan clasificar de mejor manera si una URL es phishing o no lo es."
   ]
  },
  {
   "cell_type": "markdown",
   "metadata": {},
   "source": [
    "### Preprocesamineto de datos"
   ]
  },
  {
   "cell_type": "markdown",
   "metadata": {},
   "source": [
    "En la presente sección se procesarán los datos y se dejará listo el dataset para que el mismo pueda ser utilizado para entrenar un modelo de machine learning que sea capaz de clasificar las URLs como se ha ido describiendo anteriormente. Lo primero que vale la pena es recordar la forma en la que se encuentra nuestro dataset antes de ser preprocesado y arreglado para que se encuentre listo para ser usado."
   ]
  },
  {
   "cell_type": "code",
   "execution_count": 23,
   "metadata": {},
   "outputs": [
    {
     "data": {
      "text/html": [
       "<div>\n",
       "<style scoped>\n",
       "    .dataframe tbody tr th:only-of-type {\n",
       "        vertical-align: middle;\n",
       "    }\n",
       "\n",
       "    .dataframe tbody tr th {\n",
       "        vertical-align: top;\n",
       "    }\n",
       "\n",
       "    .dataframe thead th {\n",
       "        text-align: right;\n",
       "    }\n",
       "</style>\n",
       "<table border=\"1\" class=\"dataframe\">\n",
       "  <thead>\n",
       "    <tr style=\"text-align: right;\">\n",
       "      <th></th>\n",
       "      <th>url</th>\n",
       "      <th>status</th>\n",
       "    </tr>\n",
       "  </thead>\n",
       "  <tbody>\n",
       "    <tr>\n",
       "      <th>0</th>\n",
       "      <td>http://www.crestonwood.com/router.php</td>\n",
       "      <td>legitimate</td>\n",
       "    </tr>\n",
       "    <tr>\n",
       "      <th>1</th>\n",
       "      <td>http://shadetreetechnology.com/V4/validation/a...</td>\n",
       "      <td>phishing</td>\n",
       "    </tr>\n",
       "    <tr>\n",
       "      <th>2</th>\n",
       "      <td>https://support-appleld.com.secureupdate.duila...</td>\n",
       "      <td>phishing</td>\n",
       "    </tr>\n",
       "    <tr>\n",
       "      <th>3</th>\n",
       "      <td>http://rgipt.ac.in</td>\n",
       "      <td>legitimate</td>\n",
       "    </tr>\n",
       "    <tr>\n",
       "      <th>4</th>\n",
       "      <td>http://www.iracing.com/tracks/gateway-motorspo...</td>\n",
       "      <td>legitimate</td>\n",
       "    </tr>\n",
       "    <tr>\n",
       "      <th>...</th>\n",
       "      <td>...</td>\n",
       "      <td>...</td>\n",
       "    </tr>\n",
       "    <tr>\n",
       "      <th>11425</th>\n",
       "      <td>http://www.fontspace.com/category/blackletter</td>\n",
       "      <td>legitimate</td>\n",
       "    </tr>\n",
       "    <tr>\n",
       "      <th>11426</th>\n",
       "      <td>http://www.budgetbots.com/server.php/Server%20...</td>\n",
       "      <td>phishing</td>\n",
       "    </tr>\n",
       "    <tr>\n",
       "      <th>11427</th>\n",
       "      <td>https://www.facebook.com/Interactive-Televisio...</td>\n",
       "      <td>legitimate</td>\n",
       "    </tr>\n",
       "    <tr>\n",
       "      <th>11428</th>\n",
       "      <td>http://www.mypublicdomainpictures.com/</td>\n",
       "      <td>legitimate</td>\n",
       "    </tr>\n",
       "    <tr>\n",
       "      <th>11429</th>\n",
       "      <td>http://174.139.46.123/ap/signin?openid.pape.ma...</td>\n",
       "      <td>phishing</td>\n",
       "    </tr>\n",
       "  </tbody>\n",
       "</table>\n",
       "<p>11430 rows × 2 columns</p>\n",
       "</div>"
      ],
      "text/plain": [
       "                                                     url      status\n",
       "0                  http://www.crestonwood.com/router.php  legitimate\n",
       "1      http://shadetreetechnology.com/V4/validation/a...    phishing\n",
       "2      https://support-appleld.com.secureupdate.duila...    phishing\n",
       "3                                     http://rgipt.ac.in  legitimate\n",
       "4      http://www.iracing.com/tracks/gateway-motorspo...  legitimate\n",
       "...                                                  ...         ...\n",
       "11425      http://www.fontspace.com/category/blackletter  legitimate\n",
       "11426  http://www.budgetbots.com/server.php/Server%20...    phishing\n",
       "11427  https://www.facebook.com/Interactive-Televisio...  legitimate\n",
       "11428             http://www.mypublicdomainpictures.com/  legitimate\n",
       "11429  http://174.139.46.123/ap/signin?openid.pape.ma...    phishing\n",
       "\n",
       "[11430 rows x 2 columns]"
      ]
     },
     "execution_count": 23,
     "metadata": {},
     "output_type": "execute_result"
    }
   ],
   "source": [
    "# Instrucción para retornar el dataset.\n",
    "dataset"
   ]
  },
  {
   "cell_type": "markdown",
   "metadata": {},
   "source": [
    "Como aviso, se desactivaron todos los mensajes de warning para futuras operaciones a realizar por parte de librerías como SKLearn. El código necesario para desactivar correctamente estas warnings es el siguiente."
   ]
  },
  {
   "cell_type": "code",
   "execution_count": 24,
   "metadata": {},
   "outputs": [],
   "source": [
    "# Librerías a utilizar para ignorar.\n",
    "import warnings\n",
    "from sklearn.exceptions import DataConversionWarning\n",
    "\n",
    "# Configuración de los warnings a ignorar.\n",
    "warnings.filterwarnings(\"ignore\", category=FutureWarning)\n",
    "warnings.filterwarnings(\"ignore\", category=DataConversionWarning)"
   ]
  },
  {
   "cell_type": "markdown",
   "metadata": {},
   "source": [
    "Lo primero que necesitamos realizar es convertir la columna \"status\" en numérica, es decir, pasar el valor \"legitimate\" a 0 y el valor \"phishing\" a 1, para que sea más fácil de utilizar por parte de un modelo de machine learning. Recordemos que estos modelos son infinítamente mejores trabajando con números que con letras."
   ]
  },
  {
   "cell_type": "code",
   "execution_count": 25,
   "metadata": {},
   "outputs": [
    {
     "data": {
      "text/html": [
       "<div>\n",
       "<style scoped>\n",
       "    .dataframe tbody tr th:only-of-type {\n",
       "        vertical-align: middle;\n",
       "    }\n",
       "\n",
       "    .dataframe tbody tr th {\n",
       "        vertical-align: top;\n",
       "    }\n",
       "\n",
       "    .dataframe thead th {\n",
       "        text-align: right;\n",
       "    }\n",
       "</style>\n",
       "<table border=\"1\" class=\"dataframe\">\n",
       "  <thead>\n",
       "    <tr style=\"text-align: right;\">\n",
       "      <th></th>\n",
       "      <th>url</th>\n",
       "      <th>status</th>\n",
       "    </tr>\n",
       "  </thead>\n",
       "  <tbody>\n",
       "    <tr>\n",
       "      <th>0</th>\n",
       "      <td>http://www.crestonwood.com/router.php</td>\n",
       "      <td>0</td>\n",
       "    </tr>\n",
       "    <tr>\n",
       "      <th>1</th>\n",
       "      <td>http://shadetreetechnology.com/V4/validation/a...</td>\n",
       "      <td>1</td>\n",
       "    </tr>\n",
       "    <tr>\n",
       "      <th>2</th>\n",
       "      <td>https://support-appleld.com.secureupdate.duila...</td>\n",
       "      <td>1</td>\n",
       "    </tr>\n",
       "    <tr>\n",
       "      <th>3</th>\n",
       "      <td>http://rgipt.ac.in</td>\n",
       "      <td>0</td>\n",
       "    </tr>\n",
       "    <tr>\n",
       "      <th>4</th>\n",
       "      <td>http://www.iracing.com/tracks/gateway-motorspo...</td>\n",
       "      <td>0</td>\n",
       "    </tr>\n",
       "    <tr>\n",
       "      <th>...</th>\n",
       "      <td>...</td>\n",
       "      <td>...</td>\n",
       "    </tr>\n",
       "    <tr>\n",
       "      <th>11425</th>\n",
       "      <td>http://www.fontspace.com/category/blackletter</td>\n",
       "      <td>0</td>\n",
       "    </tr>\n",
       "    <tr>\n",
       "      <th>11426</th>\n",
       "      <td>http://www.budgetbots.com/server.php/Server%20...</td>\n",
       "      <td>1</td>\n",
       "    </tr>\n",
       "    <tr>\n",
       "      <th>11427</th>\n",
       "      <td>https://www.facebook.com/Interactive-Televisio...</td>\n",
       "      <td>0</td>\n",
       "    </tr>\n",
       "    <tr>\n",
       "      <th>11428</th>\n",
       "      <td>http://www.mypublicdomainpictures.com/</td>\n",
       "      <td>0</td>\n",
       "    </tr>\n",
       "    <tr>\n",
       "      <th>11429</th>\n",
       "      <td>http://174.139.46.123/ap/signin?openid.pape.ma...</td>\n",
       "      <td>1</td>\n",
       "    </tr>\n",
       "  </tbody>\n",
       "</table>\n",
       "<p>11430 rows × 2 columns</p>\n",
       "</div>"
      ],
      "text/plain": [
       "                                                     url  status\n",
       "0                  http://www.crestonwood.com/router.php       0\n",
       "1      http://shadetreetechnology.com/V4/validation/a...       1\n",
       "2      https://support-appleld.com.secureupdate.duila...       1\n",
       "3                                     http://rgipt.ac.in       0\n",
       "4      http://www.iracing.com/tracks/gateway-motorspo...       0\n",
       "...                                                  ...     ...\n",
       "11425      http://www.fontspace.com/category/blackletter       0\n",
       "11426  http://www.budgetbots.com/server.php/Server%20...       1\n",
       "11427  https://www.facebook.com/Interactive-Televisio...       0\n",
       "11428             http://www.mypublicdomainpictures.com/       0\n",
       "11429  http://174.139.46.123/ap/signin?openid.pape.ma...       1\n",
       "\n",
       "[11430 rows x 2 columns]"
      ]
     },
     "execution_count": 25,
     "metadata": {},
     "output_type": "execute_result"
    }
   ],
   "source": [
    "# Cambio de los valores de la columna \"status\" a 0 para \"legitimate\" y 1 para \"phishing\".\n",
    "dataset[\"status\"] = dataset[\"status\"].apply(lambda x: 0 if (x == \"legitimate\") else 1)\n",
    "dataset"
   ]
  },
  {
   "cell_type": "markdown",
   "metadata": {},
   "source": [
    "Con este nuevo resultado podemos comenzar a alistar las nuevas features a utilizar con el objetivo de la clasificación. Esto lo podemos realizar utilizando la función `apply` que nos permite aplicarle una función a una columna entera del dataset con el objetivo de generar una nueva."
   ]
  },
  {
   "cell_type": "code",
   "execution_count": 26,
   "metadata": {},
   "outputs": [
    {
     "data": {
      "text/html": [
       "<div>\n",
       "<style scoped>\n",
       "    .dataframe tbody tr th:only-of-type {\n",
       "        vertical-align: middle;\n",
       "    }\n",
       "\n",
       "    .dataframe tbody tr th {\n",
       "        vertical-align: top;\n",
       "    }\n",
       "\n",
       "    .dataframe thead th {\n",
       "        text-align: right;\n",
       "    }\n",
       "</style>\n",
       "<table border=\"1\" class=\"dataframe\">\n",
       "  <thead>\n",
       "    <tr style=\"text-align: right;\">\n",
       "      <th></th>\n",
       "      <th>status</th>\n",
       "      <th>url_lenght</th>\n",
       "      <th>pathname_lenght</th>\n",
       "      <th>domain_lenght</th>\n",
       "      <th>filename_lenght</th>\n",
       "      <th>domain_vocals</th>\n",
       "      <th>domain_dots</th>\n",
       "      <th>url_slashes</th>\n",
       "      <th>url_dots</th>\n",
       "      <th>url_dashes</th>\n",
       "      <th>url_enthropy</th>\n",
       "      <th>domain_enthropy</th>\n",
       "      <th>url_semicolons</th>\n",
       "      <th>url_percentages</th>\n",
       "      <th>url_hashtags</th>\n",
       "      <th>url_hyphens</th>\n",
       "    </tr>\n",
       "  </thead>\n",
       "  <tbody>\n",
       "    <tr>\n",
       "      <th>0</th>\n",
       "      <td>0</td>\n",
       "      <td>37</td>\n",
       "      <td>11</td>\n",
       "      <td>19</td>\n",
       "      <td>10</td>\n",
       "      <td>5</td>\n",
       "      <td>2</td>\n",
       "      <td>3</td>\n",
       "      <td>3</td>\n",
       "      <td>0</td>\n",
       "      <td>3.219801</td>\n",
       "      <td>3.670932</td>\n",
       "      <td>0</td>\n",
       "      <td>0</td>\n",
       "      <td>0</td>\n",
       "      <td>0</td>\n",
       "    </tr>\n",
       "    <tr>\n",
       "      <th>1</th>\n",
       "      <td>1</td>\n",
       "      <td>77</td>\n",
       "      <td>47</td>\n",
       "      <td>23</td>\n",
       "      <td>32</td>\n",
       "      <td>8</td>\n",
       "      <td>1</td>\n",
       "      <td>5</td>\n",
       "      <td>1</td>\n",
       "      <td>0</td>\n",
       "      <td>2.646733</td>\n",
       "      <td>1.013842</td>\n",
       "      <td>0</td>\n",
       "      <td>0</td>\n",
       "      <td>0</td>\n",
       "      <td>0</td>\n",
       "    </tr>\n",
       "    <tr>\n",
       "      <th>2</th>\n",
       "      <td>1</td>\n",
       "      <td>126</td>\n",
       "      <td>20</td>\n",
       "      <td>50</td>\n",
       "      <td>0</td>\n",
       "      <td>17</td>\n",
       "      <td>4</td>\n",
       "      <td>5</td>\n",
       "      <td>4</td>\n",
       "      <td>1</td>\n",
       "      <td>2.417309</td>\n",
       "      <td>1.449360</td>\n",
       "      <td>0</td>\n",
       "      <td>0</td>\n",
       "      <td>0</td>\n",
       "      <td>1</td>\n",
       "    </tr>\n",
       "    <tr>\n",
       "      <th>3</th>\n",
       "      <td>0</td>\n",
       "      <td>18</td>\n",
       "      <td>0</td>\n",
       "      <td>11</td>\n",
       "      <td>0</td>\n",
       "      <td>3</td>\n",
       "      <td>2</td>\n",
       "      <td>2</td>\n",
       "      <td>2</td>\n",
       "      <td>0</td>\n",
       "      <td>3.612699</td>\n",
       "      <td>2.915925</td>\n",
       "      <td>0</td>\n",
       "      <td>0</td>\n",
       "      <td>0</td>\n",
       "      <td>0</td>\n",
       "    </tr>\n",
       "    <tr>\n",
       "      <th>4</th>\n",
       "      <td>0</td>\n",
       "      <td>55</td>\n",
       "      <td>33</td>\n",
       "      <td>15</td>\n",
       "      <td>0</td>\n",
       "      <td>4</td>\n",
       "      <td>2</td>\n",
       "      <td>5</td>\n",
       "      <td>2</td>\n",
       "      <td>2</td>\n",
       "      <td>2.769723</td>\n",
       "      <td>4.088439</td>\n",
       "      <td>0</td>\n",
       "      <td>0</td>\n",
       "      <td>0</td>\n",
       "      <td>2</td>\n",
       "    </tr>\n",
       "    <tr>\n",
       "      <th>...</th>\n",
       "      <td>...</td>\n",
       "      <td>...</td>\n",
       "      <td>...</td>\n",
       "      <td>...</td>\n",
       "      <td>...</td>\n",
       "      <td>...</td>\n",
       "      <td>...</td>\n",
       "      <td>...</td>\n",
       "      <td>...</td>\n",
       "      <td>...</td>\n",
       "      <td>...</td>\n",
       "      <td>...</td>\n",
       "      <td>...</td>\n",
       "      <td>...</td>\n",
       "      <td>...</td>\n",
       "      <td>...</td>\n",
       "    </tr>\n",
       "    <tr>\n",
       "      <th>11425</th>\n",
       "      <td>0</td>\n",
       "      <td>45</td>\n",
       "      <td>21</td>\n",
       "      <td>17</td>\n",
       "      <td>11</td>\n",
       "      <td>4</td>\n",
       "      <td>2</td>\n",
       "      <td>4</td>\n",
       "      <td>2</td>\n",
       "      <td>0</td>\n",
       "      <td>2.412778</td>\n",
       "      <td>3.465983</td>\n",
       "      <td>0</td>\n",
       "      <td>0</td>\n",
       "      <td>0</td>\n",
       "      <td>0</td>\n",
       "    </tr>\n",
       "    <tr>\n",
       "      <th>11426</th>\n",
       "      <td>1</td>\n",
       "      <td>84</td>\n",
       "      <td>37</td>\n",
       "      <td>18</td>\n",
       "      <td>9</td>\n",
       "      <td>4</td>\n",
       "      <td>2</td>\n",
       "      <td>5</td>\n",
       "      <td>5</td>\n",
       "      <td>0</td>\n",
       "      <td>1.976648</td>\n",
       "      <td>3.535761</td>\n",
       "      <td>0</td>\n",
       "      <td>1</td>\n",
       "      <td>0</td>\n",
       "      <td>0</td>\n",
       "    </tr>\n",
       "    <tr>\n",
       "      <th>11427</th>\n",
       "      <td>0</td>\n",
       "      <td>105</td>\n",
       "      <td>63</td>\n",
       "      <td>16</td>\n",
       "      <td>0</td>\n",
       "      <td>5</td>\n",
       "      <td>2</td>\n",
       "      <td>5</td>\n",
       "      <td>2</td>\n",
       "      <td>6</td>\n",
       "      <td>2.606666</td>\n",
       "      <td>4.488830</td>\n",
       "      <td>0</td>\n",
       "      <td>0</td>\n",
       "      <td>0</td>\n",
       "      <td>6</td>\n",
       "    </tr>\n",
       "    <tr>\n",
       "      <th>11428</th>\n",
       "      <td>0</td>\n",
       "      <td>38</td>\n",
       "      <td>1</td>\n",
       "      <td>30</td>\n",
       "      <td>0</td>\n",
       "      <td>9</td>\n",
       "      <td>2</td>\n",
       "      <td>3</td>\n",
       "      <td>2</td>\n",
       "      <td>0</td>\n",
       "      <td>2.397335</td>\n",
       "      <td>1.885249</td>\n",
       "      <td>0</td>\n",
       "      <td>0</td>\n",
       "      <td>0</td>\n",
       "      <td>0</td>\n",
       "    </tr>\n",
       "    <tr>\n",
       "      <th>11429</th>\n",
       "      <td>1</td>\n",
       "      <td>477</td>\n",
       "      <td>10</td>\n",
       "      <td>14</td>\n",
       "      <td>6</td>\n",
       "      <td>0</td>\n",
       "      <td>3</td>\n",
       "      <td>4</td>\n",
       "      <td>24</td>\n",
       "      <td>0</td>\n",
       "      <td>2.359853</td>\n",
       "      <td>10.445341</td>\n",
       "      <td>9</td>\n",
       "      <td>23</td>\n",
       "      <td>0</td>\n",
       "      <td>0</td>\n",
       "    </tr>\n",
       "  </tbody>\n",
       "</table>\n",
       "<p>11430 rows × 16 columns</p>\n",
       "</div>"
      ],
      "text/plain": [
       "       status  url_lenght  pathname_lenght  domain_lenght  filename_lenght  \\\n",
       "0           0          37               11             19               10   \n",
       "1           1          77               47             23               32   \n",
       "2           1         126               20             50                0   \n",
       "3           0          18                0             11                0   \n",
       "4           0          55               33             15                0   \n",
       "...       ...         ...              ...            ...              ...   \n",
       "11425       0          45               21             17               11   \n",
       "11426       1          84               37             18                9   \n",
       "11427       0         105               63             16                0   \n",
       "11428       0          38                1             30                0   \n",
       "11429       1         477               10             14                6   \n",
       "\n",
       "       domain_vocals  domain_dots  url_slashes  url_dots  url_dashes  \\\n",
       "0                  5            2            3         3           0   \n",
       "1                  8            1            5         1           0   \n",
       "2                 17            4            5         4           1   \n",
       "3                  3            2            2         2           0   \n",
       "4                  4            2            5         2           2   \n",
       "...              ...          ...          ...       ...         ...   \n",
       "11425              4            2            4         2           0   \n",
       "11426              4            2            5         5           0   \n",
       "11427              5            2            5         2           6   \n",
       "11428              9            2            3         2           0   \n",
       "11429              0            3            4        24           0   \n",
       "\n",
       "       url_enthropy  domain_enthropy  url_semicolons  url_percentages  \\\n",
       "0          3.219801         3.670932               0                0   \n",
       "1          2.646733         1.013842               0                0   \n",
       "2          2.417309         1.449360               0                0   \n",
       "3          3.612699         2.915925               0                0   \n",
       "4          2.769723         4.088439               0                0   \n",
       "...             ...              ...             ...              ...   \n",
       "11425      2.412778         3.465983               0                0   \n",
       "11426      1.976648         3.535761               0                1   \n",
       "11427      2.606666         4.488830               0                0   \n",
       "11428      2.397335         1.885249               0                0   \n",
       "11429      2.359853        10.445341               9               23   \n",
       "\n",
       "       url_hashtags  url_hyphens  \n",
       "0                 0            0  \n",
       "1                 0            0  \n",
       "2                 0            1  \n",
       "3                 0            0  \n",
       "4                 0            2  \n",
       "...             ...          ...  \n",
       "11425             0            0  \n",
       "11426             0            0  \n",
       "11427             0            6  \n",
       "11428             0            0  \n",
       "11429             0            0  \n",
       "\n",
       "[11430 rows x 16 columns]"
      ]
     },
     "execution_count": 26,
     "metadata": {},
     "output_type": "execute_result"
    }
   ],
   "source": [
    "# Obtención de las nuevas columnas y eliminación de la columna URL para clasificar.\n",
    "dataset[\"url_lenght\"] = dataset[\"url\"].apply(get_url_length)\n",
    "dataset[\"pathname_lenght\"] = dataset[\"url\"].apply(get_pathname_lenght)\n",
    "dataset[\"domain_lenght\"] = dataset[\"url\"].apply(get_domain_lenght)\n",
    "dataset[\"filename_lenght\"] = dataset[\"url\"].apply(get_filename_lenght)\n",
    "dataset[\"domain_vocals\"] = dataset[\"url\"].apply(get_vocals)\n",
    "dataset[\"domain_dots\"] = dataset[\"url\"].apply(get_domain_points)\n",
    "dataset[\"url_slashes\"] = dataset[\"url\"].apply(get_slashes)\n",
    "dataset[\"url_dots\"] = dataset[\"url\"].apply(get_url_points)\n",
    "dataset[\"url_dashes\"] = dataset[\"url\"].apply(get_dashes)\n",
    "dataset[\"url_enthropy\"] = dataset[\"url\"].apply(get_url_entropy)\n",
    "dataset[\"domain_enthropy\"] = dataset[\"url\"].apply(get_domain_entropy)\n",
    "dataset[\"url_semicolons\"] = dataset[\"url\"].apply(get_url_semicolons)\n",
    "dataset[\"url_percentages\"] = dataset[\"url\"].apply(get_url_percentages)\n",
    "dataset[\"url_hashtags\"] = dataset[\"url\"].apply(get_url_hashtags)\n",
    "dataset[\"url_hyphens\"] = dataset[\"url\"].apply(get_url_hyphens)\n",
    "dataset = dataset.drop(\"url\", axis=1)\n",
    "dataset"
   ]
  },
  {
   "cell_type": "markdown",
   "metadata": {},
   "source": [
    "Ya nos encontramos con un dataset mucho más interesante, que posee las 15 features que planteamos inicialmente, junto con la columna \"status\" que sigue representando si la URL es una URL de phishing o no lo es. Ahora que tenemos este dataset procede escalarlo para poder utilizarlo para el entrenamiento de otros modelos."
   ]
  },
  {
   "cell_type": "code",
   "execution_count": 27,
   "metadata": {},
   "outputs": [
    {
     "data": {
      "text/html": [
       "<div>\n",
       "<style scoped>\n",
       "    .dataframe tbody tr th:only-of-type {\n",
       "        vertical-align: middle;\n",
       "    }\n",
       "\n",
       "    .dataframe tbody tr th {\n",
       "        vertical-align: top;\n",
       "    }\n",
       "\n",
       "    .dataframe thead th {\n",
       "        text-align: right;\n",
       "    }\n",
       "</style>\n",
       "<table border=\"1\" class=\"dataframe\">\n",
       "  <thead>\n",
       "    <tr style=\"text-align: right;\">\n",
       "      <th></th>\n",
       "      <th>status</th>\n",
       "      <th>url_lenght</th>\n",
       "      <th>pathname_lenght</th>\n",
       "      <th>domain_lenght</th>\n",
       "      <th>filename_lenght</th>\n",
       "      <th>domain_vocals</th>\n",
       "      <th>domain_dots</th>\n",
       "      <th>url_slashes</th>\n",
       "      <th>url_dots</th>\n",
       "      <th>url_dashes</th>\n",
       "      <th>url_enthropy</th>\n",
       "      <th>domain_enthropy</th>\n",
       "      <th>url_semicolons</th>\n",
       "      <th>url_percentages</th>\n",
       "      <th>url_hashtags</th>\n",
       "      <th>url_hyphens</th>\n",
       "    </tr>\n",
       "  </thead>\n",
       "  <tbody>\n",
       "    <tr>\n",
       "      <th>0</th>\n",
       "      <td>0</td>\n",
       "      <td>0.015347</td>\n",
       "      <td>0.018272</td>\n",
       "      <td>0.071429</td>\n",
       "      <td>0.016694</td>\n",
       "      <td>0.151515</td>\n",
       "      <td>0.076923</td>\n",
       "      <td>0.032258</td>\n",
       "      <td>0.086957</td>\n",
       "      <td>0.000000</td>\n",
       "      <td>0.314892</td>\n",
       "      <td>0.298663</td>\n",
       "      <td>0.00</td>\n",
       "      <td>0.000000</td>\n",
       "      <td>0.0</td>\n",
       "      <td>0.000000</td>\n",
       "    </tr>\n",
       "    <tr>\n",
       "      <th>1</th>\n",
       "      <td>1</td>\n",
       "      <td>0.039902</td>\n",
       "      <td>0.078073</td>\n",
       "      <td>0.090476</td>\n",
       "      <td>0.053422</td>\n",
       "      <td>0.242424</td>\n",
       "      <td>0.000000</td>\n",
       "      <td>0.096774</td>\n",
       "      <td>0.000000</td>\n",
       "      <td>0.000000</td>\n",
       "      <td>0.239518</td>\n",
       "      <td>0.048014</td>\n",
       "      <td>0.00</td>\n",
       "      <td>0.000000</td>\n",
       "      <td>0.0</td>\n",
       "      <td>0.000000</td>\n",
       "    </tr>\n",
       "    <tr>\n",
       "      <th>2</th>\n",
       "      <td>1</td>\n",
       "      <td>0.069982</td>\n",
       "      <td>0.033223</td>\n",
       "      <td>0.219048</td>\n",
       "      <td>0.000000</td>\n",
       "      <td>0.515152</td>\n",
       "      <td>0.230769</td>\n",
       "      <td>0.096774</td>\n",
       "      <td>0.130435</td>\n",
       "      <td>0.023256</td>\n",
       "      <td>0.209343</td>\n",
       "      <td>0.089097</td>\n",
       "      <td>0.00</td>\n",
       "      <td>0.000000</td>\n",
       "      <td>0.0</td>\n",
       "      <td>0.023256</td>\n",
       "    </tr>\n",
       "    <tr>\n",
       "      <th>3</th>\n",
       "      <td>0</td>\n",
       "      <td>0.003683</td>\n",
       "      <td>0.000000</td>\n",
       "      <td>0.033333</td>\n",
       "      <td>0.000000</td>\n",
       "      <td>0.090909</td>\n",
       "      <td>0.076923</td>\n",
       "      <td>0.000000</td>\n",
       "      <td>0.043478</td>\n",
       "      <td>0.000000</td>\n",
       "      <td>0.366568</td>\n",
       "      <td>0.227441</td>\n",
       "      <td>0.00</td>\n",
       "      <td>0.000000</td>\n",
       "      <td>0.0</td>\n",
       "      <td>0.000000</td>\n",
       "    </tr>\n",
       "    <tr>\n",
       "      <th>4</th>\n",
       "      <td>0</td>\n",
       "      <td>0.026397</td>\n",
       "      <td>0.054817</td>\n",
       "      <td>0.052381</td>\n",
       "      <td>0.000000</td>\n",
       "      <td>0.121212</td>\n",
       "      <td>0.076923</td>\n",
       "      <td>0.096774</td>\n",
       "      <td>0.043478</td>\n",
       "      <td>0.046512</td>\n",
       "      <td>0.255695</td>\n",
       "      <td>0.338047</td>\n",
       "      <td>0.00</td>\n",
       "      <td>0.000000</td>\n",
       "      <td>0.0</td>\n",
       "      <td>0.046512</td>\n",
       "    </tr>\n",
       "    <tr>\n",
       "      <th>...</th>\n",
       "      <td>...</td>\n",
       "      <td>...</td>\n",
       "      <td>...</td>\n",
       "      <td>...</td>\n",
       "      <td>...</td>\n",
       "      <td>...</td>\n",
       "      <td>...</td>\n",
       "      <td>...</td>\n",
       "      <td>...</td>\n",
       "      <td>...</td>\n",
       "      <td>...</td>\n",
       "      <td>...</td>\n",
       "      <td>...</td>\n",
       "      <td>...</td>\n",
       "      <td>...</td>\n",
       "      <td>...</td>\n",
       "    </tr>\n",
       "    <tr>\n",
       "      <th>11425</th>\n",
       "      <td>0</td>\n",
       "      <td>0.020258</td>\n",
       "      <td>0.034884</td>\n",
       "      <td>0.061905</td>\n",
       "      <td>0.018364</td>\n",
       "      <td>0.121212</td>\n",
       "      <td>0.076923</td>\n",
       "      <td>0.064516</td>\n",
       "      <td>0.043478</td>\n",
       "      <td>0.000000</td>\n",
       "      <td>0.208747</td>\n",
       "      <td>0.279329</td>\n",
       "      <td>0.00</td>\n",
       "      <td>0.000000</td>\n",
       "      <td>0.0</td>\n",
       "      <td>0.000000</td>\n",
       "    </tr>\n",
       "    <tr>\n",
       "      <th>11426</th>\n",
       "      <td>1</td>\n",
       "      <td>0.044199</td>\n",
       "      <td>0.061462</td>\n",
       "      <td>0.066667</td>\n",
       "      <td>0.015025</td>\n",
       "      <td>0.121212</td>\n",
       "      <td>0.076923</td>\n",
       "      <td>0.096774</td>\n",
       "      <td>0.173913</td>\n",
       "      <td>0.000000</td>\n",
       "      <td>0.151384</td>\n",
       "      <td>0.285912</td>\n",
       "      <td>0.00</td>\n",
       "      <td>0.010417</td>\n",
       "      <td>0.0</td>\n",
       "      <td>0.000000</td>\n",
       "    </tr>\n",
       "    <tr>\n",
       "      <th>11427</th>\n",
       "      <td>0</td>\n",
       "      <td>0.057090</td>\n",
       "      <td>0.104651</td>\n",
       "      <td>0.057143</td>\n",
       "      <td>0.000000</td>\n",
       "      <td>0.151515</td>\n",
       "      <td>0.076923</td>\n",
       "      <td>0.096774</td>\n",
       "      <td>0.043478</td>\n",
       "      <td>0.139535</td>\n",
       "      <td>0.234248</td>\n",
       "      <td>0.375817</td>\n",
       "      <td>0.00</td>\n",
       "      <td>0.000000</td>\n",
       "      <td>0.0</td>\n",
       "      <td>0.139535</td>\n",
       "    </tr>\n",
       "    <tr>\n",
       "      <th>11428</th>\n",
       "      <td>0</td>\n",
       "      <td>0.015961</td>\n",
       "      <td>0.001661</td>\n",
       "      <td>0.123810</td>\n",
       "      <td>0.000000</td>\n",
       "      <td>0.272727</td>\n",
       "      <td>0.076923</td>\n",
       "      <td>0.032258</td>\n",
       "      <td>0.043478</td>\n",
       "      <td>0.000000</td>\n",
       "      <td>0.206716</td>\n",
       "      <td>0.130215</td>\n",
       "      <td>0.00</td>\n",
       "      <td>0.000000</td>\n",
       "      <td>0.0</td>\n",
       "      <td>0.000000</td>\n",
       "    </tr>\n",
       "    <tr>\n",
       "      <th>11429</th>\n",
       "      <td>1</td>\n",
       "      <td>0.285451</td>\n",
       "      <td>0.016611</td>\n",
       "      <td>0.047619</td>\n",
       "      <td>0.010017</td>\n",
       "      <td>0.000000</td>\n",
       "      <td>0.153846</td>\n",
       "      <td>0.064516</td>\n",
       "      <td>1.000000</td>\n",
       "      <td>0.000000</td>\n",
       "      <td>0.201786</td>\n",
       "      <td>0.937706</td>\n",
       "      <td>0.45</td>\n",
       "      <td>0.239583</td>\n",
       "      <td>0.0</td>\n",
       "      <td>0.000000</td>\n",
       "    </tr>\n",
       "  </tbody>\n",
       "</table>\n",
       "<p>11430 rows × 16 columns</p>\n",
       "</div>"
      ],
      "text/plain": [
       "       status  url_lenght  pathname_lenght  domain_lenght  filename_lenght  \\\n",
       "0           0    0.015347         0.018272       0.071429         0.016694   \n",
       "1           1    0.039902         0.078073       0.090476         0.053422   \n",
       "2           1    0.069982         0.033223       0.219048         0.000000   \n",
       "3           0    0.003683         0.000000       0.033333         0.000000   \n",
       "4           0    0.026397         0.054817       0.052381         0.000000   \n",
       "...       ...         ...              ...            ...              ...   \n",
       "11425       0    0.020258         0.034884       0.061905         0.018364   \n",
       "11426       1    0.044199         0.061462       0.066667         0.015025   \n",
       "11427       0    0.057090         0.104651       0.057143         0.000000   \n",
       "11428       0    0.015961         0.001661       0.123810         0.000000   \n",
       "11429       1    0.285451         0.016611       0.047619         0.010017   \n",
       "\n",
       "       domain_vocals  domain_dots  url_slashes  url_dots  url_dashes  \\\n",
       "0           0.151515     0.076923     0.032258  0.086957    0.000000   \n",
       "1           0.242424     0.000000     0.096774  0.000000    0.000000   \n",
       "2           0.515152     0.230769     0.096774  0.130435    0.023256   \n",
       "3           0.090909     0.076923     0.000000  0.043478    0.000000   \n",
       "4           0.121212     0.076923     0.096774  0.043478    0.046512   \n",
       "...              ...          ...          ...       ...         ...   \n",
       "11425       0.121212     0.076923     0.064516  0.043478    0.000000   \n",
       "11426       0.121212     0.076923     0.096774  0.173913    0.000000   \n",
       "11427       0.151515     0.076923     0.096774  0.043478    0.139535   \n",
       "11428       0.272727     0.076923     0.032258  0.043478    0.000000   \n",
       "11429       0.000000     0.153846     0.064516  1.000000    0.000000   \n",
       "\n",
       "       url_enthropy  domain_enthropy  url_semicolons  url_percentages  \\\n",
       "0          0.314892         0.298663            0.00         0.000000   \n",
       "1          0.239518         0.048014            0.00         0.000000   \n",
       "2          0.209343         0.089097            0.00         0.000000   \n",
       "3          0.366568         0.227441            0.00         0.000000   \n",
       "4          0.255695         0.338047            0.00         0.000000   \n",
       "...             ...              ...             ...              ...   \n",
       "11425      0.208747         0.279329            0.00         0.000000   \n",
       "11426      0.151384         0.285912            0.00         0.010417   \n",
       "11427      0.234248         0.375817            0.00         0.000000   \n",
       "11428      0.206716         0.130215            0.00         0.000000   \n",
       "11429      0.201786         0.937706            0.45         0.239583   \n",
       "\n",
       "       url_hashtags  url_hyphens  \n",
       "0               0.0     0.000000  \n",
       "1               0.0     0.000000  \n",
       "2               0.0     0.023256  \n",
       "3               0.0     0.000000  \n",
       "4               0.0     0.046512  \n",
       "...             ...          ...  \n",
       "11425           0.0     0.000000  \n",
       "11426           0.0     0.000000  \n",
       "11427           0.0     0.139535  \n",
       "11428           0.0     0.000000  \n",
       "11429           0.0     0.000000  \n",
       "\n",
       "[11430 rows x 16 columns]"
      ]
     },
     "execution_count": 27,
     "metadata": {},
     "output_type": "execute_result"
    }
   ],
   "source": [
    "# Proceso de importar MinMaxScaler para escalar los datos.\n",
    "from sklearn.preprocessing import MinMaxScaler\n",
    "\n",
    "# Instancia del MinMaxScaler.\n",
    "scaler = MinMaxScaler()\n",
    "\n",
    "# Escalamiento y retorno del nuevo dataset.\n",
    "dataset = pd.DataFrame(scaler.fit_transform(dataset), columns=dataset.columns)\n",
    "dataset[\"status\"] = dataset[\"status\"].apply(lambda x: int(x))\n",
    "dataset"
   ]
  },
  {
   "cell_type": "markdown",
   "metadata": {},
   "source": [
    "Finalmente tenemos un dataset listo para ser utilizado con los modelos que nuestro equipo de trabajo considera los que posiblemente sean los mejores al momento de clasificar URLs basadas en las características que obtuvimos finalmente."
   ]
  },
  {
   "cell_type": "markdown",
   "metadata": {},
   "source": [
    "Algo que vale la pena realizar es guardar el presente dataset limpio y listo para ser utilizado como un archivo .csv. Esto lo podemos realizar con la función `to_csv` que viene incluida con la clase de los datasets de pandas."
   ]
  },
  {
   "cell_type": "code",
   "execution_count": 28,
   "metadata": {},
   "outputs": [],
   "source": [
    "# Almacenamiento del presente dataset como .csv.\n",
    "dataset.to_csv(\"./data/dataset_phishing_clean.csv\")"
   ]
  },
  {
   "cell_type": "markdown",
   "metadata": {},
   "source": [
    "### Visualización de resultados"
   ]
  },
  {
   "cell_type": "markdown",
   "metadata": {},
   "source": [
    "Como parte del laboratorio, y antes de comenzar a probar distintos modelos, se utilizará la librería `pandas_profiling` para obtener una visualización de los resultados del dataset obtenido luego de todo el tema de preprocesamiento y más."
   ]
  },
  {
   "cell_type": "code",
   "execution_count": 29,
   "metadata": {},
   "outputs": [],
   "source": [
    "# # Proceso de importación de pandas_profiling.\n",
    "# import pandas_profiling\n",
    "\n",
    "# # Crear el perfil con pandas_profiling.\n",
    "# profile = pandas_profiling.ProfileReport(dataset, config_file=None)\n",
    "\n",
    "# # Generar el informe y guardarlo como un archivo HTML.\n",
    "# profile.to_file(\"informe_perfil.html\")"
   ]
  },
  {
   "cell_type": "markdown",
   "metadata": {},
   "source": [
    "Con esta última sección de visualización de resultados, dándonos la capacidad de observar correlaciones entre datos y más en el archivo `informe_perfil.html`, damos por concluída la parte 1 del laboratorio, y pasamos a la implementación de los modelos para poder reconocer el estado de una URL dadas las características que se implementaron anteriormente."
   ]
  },
  {
   "cell_type": "markdown",
   "metadata": {},
   "source": [
    "## Parte 2 - Implementación"
   ]
  },
  {
   "cell_type": "markdown",
   "metadata": {},
   "source": [
    "En la segunda fase de este laboratorio, nos adentraremos en la implementación de modelos de Machine Learning destinados a la clasificación de URLs como legítimas o potencialmente maliciosas. Dividiremos nuestros datos en conjuntos de entrenamiento, validación y prueba, asignando el 55%, 15% y 30% del conjunto de datos respectivamente, para garantizar una evaluación rigurosa y objetiva del desempeño de nuestros modelos.\n",
    "\n",
    "Luego, procederemos con la implementación de dos algoritmos de Machine Learning seleccionados, los cuales serán entrenados utilizando el conjunto de datos de entrenamiento previamente preparado. Evaluaremos el rendimiento de cada modelo utilizando métricas específicas para el contexto del problema de detección de phishing, incluyendo la matriz de confusión, la precisión, la recuperación, la curva ROC y el área bajo la curva (AUC).\n",
    "\n",
    "Una vez obtenidos los resultados de la evaluación para los datos de validación y prueba, llevaremos a cabo un análisis detallado para comprender el impacto de las predicciones de cada modelo. Discutiremos las implicaciones de clasificar un sitio legítimo como phishing y viceversa, y seleccionaremos la métrica más apropiada para comparar los modelos de clasificación de phishing. Finalmente, determinaremos qué modelo ofreció el mejor desempeño y discutiremos posibles estrategias para optimizar el modelo y reducir la cantidad de falsas alarmas en un entorno empresarial."
   ]
  },
  {
   "cell_type": "markdown",
   "metadata": {},
   "source": [
    "### Separación de datos"
   ]
  },
  {
   "cell_type": "markdown",
   "metadata": {},
   "source": [
    "Lo primero que se nos indica es que necesitamos realizar la separación de los datos que tenemos en conjuntos de entrenamiento, validación y prueba. Esto lo podemos realizar utilizando la función `train_test_split` que viene con sklearn. El procedimiento para realizar esta separación es el siguiente."
   ]
  },
  {
   "cell_type": "code",
   "execution_count": 30,
   "metadata": {},
   "outputs": [
    {
     "data": {
      "text/plain": [
       "(0.594925634295713, 0.10507436570428696, 0.3)"
      ]
     },
     "execution_count": 30,
     "metadata": {},
     "output_type": "execute_result"
    }
   ],
   "source": [
    "# Proceso para importar train_test_split.\n",
    "from sklearn.model_selection import train_test_split\n",
    "\n",
    "# Variables independientes y variable dependiente del dataset.\n",
    "X = dataset.drop(\"status\", axis=1)\n",
    "y = dataset[\"status\"]\n",
    "\n",
    "# Separación de los conjuntos del dataset.\n",
    "X_train_plus_val, X_test, y_train_plus_val, y_test = train_test_split(X, y, test_size=0.3)\n",
    "X_train, X_val, y_train, y_val = train_test_split(X_train_plus_val, y_train_plus_val, test_size=0.15)\n",
    "\n",
    "# Retorno de las proporciones del dataset.\n",
    "len(X_train) / len(dataset), len(X_val) / len(dataset), len(X_test) / len(dataset)"
   ]
  },
  {
   "cell_type": "markdown",
   "metadata": {},
   "source": [
    "### Implementación del primer modelo"
   ]
  },
  {
   "cell_type": "markdown",
   "metadata": {},
   "source": [
    "Decidimos implementar dos modelos de inteligencia artificial para la tarea de la clasificación de URLs, los cuales son Random Forest y una red neuronal. La elección entre Random Forest (RF) y Redes Neuronales Artificiales (ANN) para clasificar URLs se basa en sus características y aptitudes distintivas. Por un lado, Random Forest es una opción robusta y escalable, especialmente útil para conjuntos de datos no lineales y ruidosos como el de las URLs. Su capacidad para manejar grandes volúmenes de datos con múltiples características, junto con su relativa facilidad de ajuste de hiperparámetros y cierto grado de interpretabilidad, lo convierte en una opción atractiva. Por otro lado, las Redes Neuronales Artificiales sobresalen en la captura de relaciones complejas y no lineales entre las características de los datos. Con una arquitectura flexible y capacidad para aprender de grandes conjuntos de datos, las ANN son capaces de generar representaciones jerárquicas más profundas y sofisticadas, lo que puede ser beneficioso en la clasificación de URLs, especialmente en un entorno donde las tácticas de phishing están en constante evolución. La elección entre RF y ANN dependerá de factores como la naturaleza y el tamaño del conjunto de datos, la complejidad del problema y los recursos computacionales disponibles, y puede ser mejor determinada mediante experimentación y evaluación del rendimiento en datos de validación."
   ]
  },
  {
   "cell_type": "markdown",
   "metadata": {},
   "source": [
    "El primer modelo implementado consistió en un Random Forest provisto por SKLearn. Se instanció el modelo con un estado de aleatoriedad de 42 para replicar el experimento creado, y finalmente se utilizó con los datos proporcionados con el objetivo de su entrenamiento."
   ]
  },
  {
   "cell_type": "code",
   "execution_count": 31,
   "metadata": {},
   "outputs": [],
   "source": [
    "# Proceso de importar el modelo a utilizar.\n",
    "from sklearn.ensemble import RandomForestClassifier\n",
    "\n",
    "# Instancia del modelo.\n",
    "rf_classifier = RandomForestClassifier(random_state=42)\n",
    "\n",
    "# Entrenamiento del modelo con los datos de entrenamiento.\n",
    "rf_classifier.fit(X_train, y_train)\n",
    "\n",
    "# Predicciones del modelo entrenado.\n",
    "rf_predictions = rf_classifier.predict(X_test)"
   ]
  },
  {
   "cell_type": "markdown",
   "metadata": {},
   "source": [
    "Con el modelo entrenado, podemos comenzar a obtener métricas interesantes para evaluar su desempeño. Las métricas solicitadas son la matriz de confusión, el accuracy, la precisión, el recall, la curva ROC y el área bajo la curva ROC. Los resultados obtenidos son cuanto menos interesantes, y personalmente son sorprendentemente buenos."
   ]
  },
  {
   "cell_type": "code",
   "execution_count": 32,
   "metadata": {},
   "outputs": [],
   "source": [
    "# Proceso para importar las métricas solicitadas.\n",
    "from sklearn.metrics import confusion_matrix, accuracy_score, precision_score, recall_score, roc_curve, roc_auc_score"
   ]
  },
  {
   "cell_type": "code",
   "execution_count": 33,
   "metadata": {},
   "outputs": [
    {
     "data": {
      "text/plain": [
       "array([[1449,  262],\n",
       "       [ 248, 1470]], dtype=int64)"
      ]
     },
     "execution_count": 33,
     "metadata": {},
     "output_type": "execute_result"
    }
   ],
   "source": [
    "# Matriz de confusión del modelo.\n",
    "confusion_matrix(y_test, rf_predictions)"
   ]
  },
  {
   "cell_type": "code",
   "execution_count": 34,
   "metadata": {},
   "outputs": [
    {
     "data": {
      "text/plain": [
       "0.8512685914260717"
      ]
     },
     "execution_count": 34,
     "metadata": {},
     "output_type": "execute_result"
    }
   ],
   "source": [
    "# Accuracy score del modelo.\n",
    "accuracy_score(y_test, rf_predictions)"
   ]
  },
  {
   "cell_type": "code",
   "execution_count": 35,
   "metadata": {},
   "outputs": [
    {
     "data": {
      "text/plain": [
       "0.848729792147806"
      ]
     },
     "execution_count": 35,
     "metadata": {},
     "output_type": "execute_result"
    }
   ],
   "source": [
    "# Precision score del modelo.\n",
    "precision_score(y_test, rf_predictions)"
   ]
  },
  {
   "cell_type": "code",
   "execution_count": 36,
   "metadata": {},
   "outputs": [
    {
     "data": {
      "text/plain": [
       "0.8556461001164144"
      ]
     },
     "execution_count": 36,
     "metadata": {},
     "output_type": "execute_result"
    }
   ],
   "source": [
    "# Recall score del modelo.\n",
    "recall_score(y_test, rf_predictions)"
   ]
  },
  {
   "cell_type": "code",
   "execution_count": 37,
   "metadata": {},
   "outputs": [
    {
     "data": {
      "text/plain": [
       "0.8512596368495573"
      ]
     },
     "execution_count": 37,
     "metadata": {},
     "output_type": "execute_result"
    }
   ],
   "source": [
    "# Área bajo la curva del modelo.\n",
    "auc = roc_auc_score(y_test, rf_predictions)\n",
    "auc"
   ]
  },
  {
   "cell_type": "code",
   "execution_count": 38,
   "metadata": {},
   "outputs": [],
   "source": [
    "# Valores para graficar la curva ROC.\n",
    "fpr, tpr, _ = roc_curve(y_test, rf_predictions)"
   ]
  },
  {
   "cell_type": "code",
   "execution_count": 39,
   "metadata": {},
   "outputs": [
    {
     "data": {
      "image/png": "[encoded data removed]",
      "text/plain": [
       "<Figure size 640x480 with 1 Axes>"
      ]
     },
     "metadata": {},
     "output_type": "display_data"
    }
   ],
   "source": [
    "# Librería para graficar la curva ROC.\n",
    "import matplotlib.pyplot as plt\n",
    "\n",
    "# Gráfico de la curva ROC.\n",
    "plt.figure()\n",
    "plt.plot(fpr, tpr, label=\"Curva ROC (Área = %0.2f)\" % auc)\n",
    "plt.plot([0, 1], [0, 1], \"k--\")\n",
    "plt.xlim([0.0, 1.0])\n",
    "plt.ylim([0.0, 1.05])\n",
    "plt.xlabel(\"Falsos positivos\")\n",
    "plt.ylabel(\"Verdaderos positivos\")\n",
    "plt.title(\"Curva ROC\")\n",
    "plt.legend(loc=\"lower right\")\n",
    "plt.show()"
   ]
  },
  {
   "cell_type": "markdown",
   "metadata": {},
   "source": [
    "Las métricas del rendimiento proporcionan una evaluación detallada de cómo se desempeña un modelo de clasificación, como el Random Forest, en la tarea de predecir las clases de un conjunto de datos. En este caso, la matriz de confusión revela la distribución de las predicciones del modelo en comparación con las clases reales. Observamos que el modelo clasificó correctamente 1419 casos negativos (verdaderos negativos) y 1485 casos positivos (verdaderos positivos), mientras que cometió 269 errores al predecir falsos negativos y 256 falsos positivos. Esto nos brinda una visión clara de cómo el modelo está acertando y errando en sus predicciones.\n",
    "\n",
    "El accuracy (exactitud) del modelo es del 84.69%, lo que indica la proporción de predicciones correctas en relación con el total de predicciones realizadas. Aunque el accuracy puede ser útil para evaluar el rendimiento general del modelo, no proporciona información sobre el equilibrio entre las clases o la capacidad del modelo para identificar correctamente casos positivos.\n",
    "\n",
    "La precisión, calculada en 84.66%, es la proporción de predicciones positivas correctas (verdaderos positivos) sobre el total de predicciones positivas (verdaderos positivos más falsos positivos). Nos indica la capacidad del modelo para evitar clasificar incorrectamente casos negativos como positivos.\n",
    "\n",
    "El recall, con un valor de 85.30%, representa la proporción de casos positivos identificados correctamente (verdaderos positivos) sobre el total de casos positivos en el conjunto de datos (verdaderos positivos más falsos negativos). Indica la capacidad del modelo para capturar todos los casos positivos, minimizando los falsos negativos.\n",
    "\n",
    "El área bajo la curva ROC (AUC) es del 84.68%, lo que mide la capacidad del modelo para distinguir entre las clases positiva y negativa. Cuanto mayor sea el AUC, mejor será la capacidad de discriminación del modelo. En este caso, un AUC de 84.68% indica un buen rendimiento en la clasificación de las clases."
   ]
  },
  {
   "cell_type": "markdown",
   "metadata": {},
   "source": [
    "### Implementación del segundo modelo"
   ]
  },
  {
   "cell_type": "markdown",
   "metadata": {},
   "source": [
    "Posteriormente a la implementación del Random Forest que en principio nos dio muy buenos resultados, se procederá a la implementación de una red neuronal que cumpla con el mismo propósito de clasificar las URLs presentadas. De primeras esperamos que este modelo sea mejor por la arquitectura más compleja de una red neuronal."
   ]
  },
  {
   "cell_type": "code",
   "execution_count": 40,
   "metadata": {},
   "outputs": [],
   "source": [
    "# Librerías a utilizar para la red neuronal.\n",
    "import torch\n",
    "import torch.nn as nn\n",
    "import torch.optim as optim\n",
    "from torch.utils.data import DataLoader, TensorDataset"
   ]
  },
  {
   "cell_type": "code",
   "execution_count": 41,
   "metadata": {},
   "outputs": [],
   "source": [
    "# Tensores a utilizar para la red neuronal.\n",
    "X_train_tensor = torch.tensor(X_train.values, dtype=torch.float32)\n",
    "y_train_tensor = torch.tensor(y_train.values, dtype=torch.float32)\n",
    "X_val_tensor = torch.tensor(X_val.values, dtype=torch.float32)\n",
    "y_val_tensor = torch.tensor(y_val.values, dtype=torch.float32)\n",
    "X_test_tensor = torch.tensor(X_test.values, dtype=torch.float32)\n",
    "y_test_tensor = torch.tensor(y_test.values, dtype=torch.float32)"
   ]
  },
  {
   "cell_type": "code",
   "execution_count": 42,
   "metadata": {},
   "outputs": [],
   "source": [
    "# Datasets a utilizar parseados por PyTorch.\n",
    "train_dataset = TensorDataset(X_train_tensor, y_train_tensor)\n",
    "val_dataset = TensorDataset(X_val_tensor, y_val_tensor)\n",
    "train_loader = DataLoader(train_dataset, batch_size=32, shuffle=True)\n",
    "val_loader = DataLoader(val_dataset, batch_size=32)"
   ]
  },
  {
   "cell_type": "code",
   "execution_count": 43,
   "metadata": {},
   "outputs": [],
   "source": [
    "# Definición de la arquitectura de la red neuronal en PyTorch\n",
    "class NeuralNetwork(nn.Module):\n",
    "\n",
    "    # Método constructor de la red neuronal.\n",
    "    def __init__(self):\n",
    "        super(NeuralNetwork, self).__init__()\n",
    "        self.fc1 = nn.Linear(X_train.shape[1], 64)\n",
    "        self.fc2 = nn.Linear(64, 32)\n",
    "        self.fc3 = nn.Linear(32, 1)\n",
    "        self.relu = nn.ReLU()\n",
    "        self.sigmoid = nn.Sigmoid()\n",
    "\n",
    "    # Función de entrenamiento de la red neuronal.\n",
    "    def forward(self, x):\n",
    "        x = self.relu(self.fc1(x))\n",
    "        x = self.relu(self.fc2(x))\n",
    "        x = self.sigmoid(self.fc3(x))\n",
    "        return x"
   ]
  },
  {
   "cell_type": "code",
   "execution_count": 44,
   "metadata": {},
   "outputs": [
    {
     "name": "stderr",
     "output_type": "stream",
     "text": [
      "c:\\Users\\stara\\AppData\\Local\\Programs\\Python\\Python311\\Lib\\site-packages\\tqdm\\auto.py:21: TqdmWarning: IProgress not found. Please update jupyter and ipywidgets. See https://ipywidgets.readthedocs.io/en/stable/user_install.html\n",
      "  from .autonotebook import tqdm as notebook_tqdm\n"
     ]
    }
   ],
   "source": [
    "# Instancia del modelo.\n",
    "model = NeuralNetwork()\n",
    "\n",
    "# Definición de la función de pérdida y el optimizador.\n",
    "criterion = nn.BCELoss()\n",
    "optimizer = optim.Adam(model.parameters(), lr=0.001)"
   ]
  },
  {
   "cell_type": "code",
   "execution_count": 45,
   "metadata": {},
   "outputs": [],
   "source": [
    "# Entrenamiento del modelo.\n",
    "for epoch in range(10):\n",
    "    model.train()\n",
    "    for inputs, labels in train_loader:\n",
    "        optimizer.zero_grad()\n",
    "        outputs = model(inputs)\n",
    "        loss = criterion(outputs, labels.view(-1, 1))\n",
    "        loss.backward()\n",
    "        optimizer.step()"
   ]
  },
  {
   "cell_type": "code",
   "execution_count": 46,
   "metadata": {},
   "outputs": [],
   "source": [
    "# Evaluación del modelo en el conjunto de validación.\n",
    "model.eval()\n",
    "\n",
    "# Realizar predicciones en el conjunto de prueba.\n",
    "with torch.no_grad():\n",
    "    y_pred_probs = model(X_test_tensor)\n",
    "    y_pred = torch.round(y_pred_probs)\n",
    "\n",
    "# Convertir a numpy arrays.\n",
    "y_test_np = y_test_tensor.numpy().flatten()\n",
    "y_pred_np = y_pred.numpy().flatten()"
   ]
  },
  {
   "cell_type": "markdown",
   "metadata": {},
   "source": [
    "Con el modelo listo, podemos proceder a obtener todas las métricas necesarias y solicitadas por el laboratorio. El procedimiento es similar en el sentido que se utilizan las mismas métricas y funciones provistas por SKLearn."
   ]
  },
  {
   "cell_type": "code",
   "execution_count": 47,
   "metadata": {},
   "outputs": [
    {
     "data": {
      "text/plain": [
       "array([[1500,  211],\n",
       "       [ 608, 1110]], dtype=int64)"
      ]
     },
     "execution_count": 47,
     "metadata": {},
     "output_type": "execute_result"
    }
   ],
   "source": [
    "# Matriz de confusión del modelo.\n",
    "confusion_matrix(y_test_np, y_pred_np)"
   ]
  },
  {
   "cell_type": "code",
   "execution_count": 48,
   "metadata": {},
   "outputs": [
    {
     "data": {
      "text/plain": [
       "0.7611548556430446"
      ]
     },
     "execution_count": 48,
     "metadata": {},
     "output_type": "execute_result"
    }
   ],
   "source": [
    "# Accuracy score del modelo.\n",
    "accuracy_score(y_test_np, y_pred_np)"
   ]
  },
  {
   "cell_type": "code",
   "execution_count": 49,
   "metadata": {},
   "outputs": [
    {
     "data": {
      "text/plain": [
       "0.8402725208175624"
      ]
     },
     "execution_count": 49,
     "metadata": {},
     "output_type": "execute_result"
    }
   ],
   "source": [
    "# Precision score del modelo.\n",
    "precision_score(y_test_np, y_pred_np)"
   ]
  },
  {
   "cell_type": "code",
   "execution_count": 50,
   "metadata": {},
   "outputs": [
    {
     "data": {
      "text/plain": [
       "0.6461001164144354"
      ]
     },
     "execution_count": 50,
     "metadata": {},
     "output_type": "execute_result"
    }
   ],
   "source": [
    "# Recall score del modelo.\n",
    "recall_score(y_test_np, y_pred_np)"
   ]
  },
  {
   "cell_type": "code",
   "execution_count": 51,
   "metadata": {},
   "outputs": [
    {
     "data": {
      "text/plain": [
       "0.8653293861741018"
      ]
     },
     "execution_count": 51,
     "metadata": {},
     "output_type": "execute_result"
    }
   ],
   "source": [
    "# Calcular las métricas\n",
    "auc = roc_auc_score(y_test_np, y_pred_probs.numpy())\n",
    "auc"
   ]
  },
  {
   "cell_type": "code",
   "execution_count": 52,
   "metadata": {},
   "outputs": [],
   "source": [
    "# Valores para graficar la curva ROC.\n",
    "fpr, tpr, _ = roc_curve(y_test_np, y_pred_probs.numpy())"
   ]
  },
  {
   "cell_type": "code",
   "execution_count": 53,
   "metadata": {},
   "outputs": [
    {
     "data": {
      "image/png": "[encoded data removed]",
      "text/plain": [
       "<Figure size 640x480 with 1 Axes>"
      ]
     },
     "metadata": {},
     "output_type": "display_data"
    }
   ],
   "source": [
    "# Librería para graficar la curva ROC.\n",
    "import matplotlib.pyplot as plt\n",
    "\n",
    "# Gráfico de la curva ROC.\n",
    "plt.figure()\n",
    "plt.plot(fpr, tpr, label=\"Curva ROC (Área = %0.2f)\" % auc)\n",
    "plt.plot([0, 1], [0, 1], \"k--\")\n",
    "plt.xlim([0.0, 1.0])\n",
    "plt.ylim([0.0, 1.05])\n",
    "plt.xlabel(\"Falsos positivos\")\n",
    "plt.ylabel(\"Verdaderos positivos\")\n",
    "plt.title(\"Curva ROC\")\n",
    "plt.legend(loc=\"lower right\")\n",
    "plt.show()"
   ]
  },
  {
   "cell_type": "markdown",
   "metadata": {},
   "source": [
    "Las métricas de rendimiento proporcionadas para el modelo de Red Neuronal nos ofrecen una evaluación detallada de su desempeño en la tarea de clasificación de URLs. Comenzando con la matriz de confusión, observamos que el modelo clasificó correctamente 1500 casos negativos (verdaderos negativos) y 1110 casos positivos (verdaderos positivos). Sin embargo, cometió 211 errores al predecir falsos negativos y 608 falsos positivos. Esta información nos permite entender cómo el modelo está realizando sus predicciones y dónde se encuentran las áreas de mejora.\n",
    "\n",
    "La accuracy (exactitud) del modelo es del 76.12%, lo que indica la proporción de predicciones correctas en relación con el total de predicciones realizadas. Si bien la exactitud proporciona una medida general del rendimiento del modelo, no tiene en cuenta el equilibrio entre las clases o la capacidad del modelo para identificar correctamente los casos positivos.\n",
    "\n",
    "La precisión, calculada en 84.03%, representa la proporción de predicciones positivas correctas (verdaderos positivos) sobre el total de predicciones positivas (verdaderos positivos más falsos positivos). Esto nos indica la capacidad del modelo para evitar clasificar incorrectamente casos negativos como positivos.\n",
    "\n",
    "El recall, con un valor de 64.61%, es la proporción de casos positivos identificados correctamente (verdaderos positivos) sobre el total de casos positivos en el conjunto de datos (verdaderos positivos más falsos negativos). Nos indica la capacidad del modelo para capturar todos los casos positivos, minimizando los falsos negativos.\n",
    "\n",
    "El área bajo la curva ROC (AUC) es del 86.53%, lo que mide la capacidad del modelo para distinguir entre las clases positiva y negativa. Un AUC más alto indica una mejor capacidad de discriminación del modelo. En este caso, un AUC del 86.53% sugiere un buen rendimiento en la clasificación de las clases."
   ]
  },
  {
   "cell_type": "markdown",
   "metadata": {},
   "source": [
    "### Discusión"
   ]
  },
  {
   "cell_type": "markdown",
   "metadata": {},
   "source": [
    "1. ¿Cuál es el impacto de clasificar un sitio legítimo como phishing?\n",
    "\n",
    "Clasificar un sitio legítimo como phishing puede tener un impacto significativo en la confianza de los usuarios y la reputación de la empresa o servicio asociado con ese sitio. Los usuarios pueden perder la fe en la seguridad del servicio y optar por evitarlo por completo, lo que podría resultar en la pérdida de clientes y dañar la imagen de la empresa. Además, si se proporcionan datos personales o confidenciales en el sitio legítimo, existe el riesgo de que esa información se vea comprometida, lo que podría tener consecuencias graves para los usuarios afectados y la empresa responsable del sitio.\n",
    "\n",
    "2. ¿Cuál es el impacto de clasificar un sitio de phishing como legítimo?\n",
    "\n",
    "Por otro lado, clasificar un sitio de phishing como legítimo también puede tener consecuencias negativas. Los usuarios podrían ser engañados para proporcionar información confidencial, como contraseñas o información financiera, lo que podría conducir a robo de identidad, fraude financiero u otros tipos de ataques cibernéticos. Esto puede resultar en pérdidas financieras para los usuarios afectados y dañar la reputación y la confianza en la empresa o servicio que fue falsamente identificado como legítimo.\n",
    "\n",
    "3. En base a las respuestas anteriores, ¿Qué métrica elegiría para comparar modelos similares de clasificación de phishing?\n",
    "\n",
    "Dada la importancia de minimizar tanto los falsos positivos (sitios legítimos clasificados como phishing) como los falsos negativos (sitios de phishing clasificados como legítimos), la métrica más relevante para comparar modelos de clasificación de phishing sería el F1-score. El F1-score es una medida que combina precisión y recall, lo que lo hace adecuado para evaluar el equilibrio entre la capacidad de un modelo para identificar correctamente tanto los sitios de phishing como los sitios legítimos.\n",
    "\n",
    "4. ¿Qué modelo funcionó mejor para la clasificación de phishing? ¿Por qué?\n",
    "\n",
    "Para determinar cuál de los modelos funcionó mejor en la clasificación de phishing, necesitaríamos comparar sus métricas de rendimiento, incluido el F1-score, accuracy, precision, recall y AUC. Basándonos en las métricas proporcionadas para ambos modelos (Random Forest y Red Neuronal), podemos observar que el modelo de Random Forest parece haber obtenido un F1-score más alto, lo que indica un mejor equilibrio entre precisión y recall. Sin embargo, sería prudente analizar más a fondo las características específicas de cada modelo y considerar otros factores, como la facilidad de interpretación y el costo computacional, antes de tomar una decisión final.\n",
    "\n",
    "5. Una empresa desea utilizar su mejor modelo, debido a que sus empleados sufren constantes ataques de phishing mediante e-mail. La empresa estima que, de un total de 50,000 emails, un 15% son phishing. ¿Qué cantidad de alarmas generaría su modelo? ¿Cuántas positivas y cuantas negativas? ¿Funciona el modelo para el BR propuesto? En caso negativo, ¿qué se podría hacer para reducir la cantidad de falsas alarmas?\n",
    "\n",
    "Si la empresa decide utilizar su mejor modelo para detectar correos electrónicos de phishing, podemos calcular la cantidad de alarmas que generaría en un conjunto de 50,000 correos electrónicos, asumiendo que el 15% son phishing. Multiplicando el total de correos electrónicos por el porcentaje de phishing, obtenemos 7,500 correos electrónicos de phishing. Si el modelo tiene un recall del 64.61% (como en el caso de la Red Neuronal), esto significaría que detectaría correctamente aproximadamente el 64.61% de los correos electrónicos de phishing, es decir, alrededor de 4,846 correos electrónicos de phishing. Sin embargo, también generaría falsas alarmas al clasificar incorrectamente algunos correos electrónicos legítimos como phishing. Para evaluar si el modelo funciona para el Business Requirement (BR) propuesto, necesitaríamos comparar la cantidad de falsas alarmas con el umbral de tolerancia de la empresa para determinar si es aceptable o si se necesitan ajustes en el modelo para reducir la cantidad de falsas alarmas. Esto podría incluir ajustar el umbral de decisión del modelo o implementar técnicas de post-procesamiento para mejorar la precisión y reducir las falsas alarmas."
   ]
  }
 ],
 "metadata": {
  "kernelspec": {
   "display_name": "Python 3",
   "language": "python",
   "name": "python3"
  },
  "language_info": {
   "codemirror_mode": {
    "name": "ipython",
    "version": 3
   },
   "file_extension": ".py",
   "mimetype": "text/x-python",
   "name": "python",
   "nbconvert_exporter": "python",
   "pygments_lexer": "ipython3",
   "version": "3.11.5"
  }
 },
 "nbformat": 4,
 "nbformat_minor": 2
}
